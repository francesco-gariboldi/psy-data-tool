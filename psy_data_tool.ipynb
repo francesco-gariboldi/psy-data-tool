{
 "cells": [
  {
   "cell_type": "code",
   "execution_count": 1,
   "id": "98488a97-9f6a-422b-b3b9-d9004fbb7101",
   "metadata": {},
   "outputs": [],
   "source": [
    "# You must have R installed sistem-wide at '/usr/lib/R', the default\n",
    "# installation folder in Linux operating systems. Otherwise modify\n",
    "# the path of the R_HOME environment variable.\n",
    "# It is recommended to install R from terminal because doing it from jupyter\n",
    "# may cause problems for password typing and admin permissions when\n",
    "# installation commands are run.\n",
    "# It is recommended to install all python packages in a virtual environment.\n",
    "# If you're using a python venv to install packages, install them with\n",
    "# pip with the -m option. This with install the packages in the\n",
    "# virtual environment.\n",
    "# To install them from Jupyter Notebook run \"!python3 -m pip install rpy2\"\n",
    "# in a cell.\n",
    "\n",
    "# Install pillow from Jupyter cell with \"%pip install pillow\"\n",
    "# Install ipympl from Jupyter cell with \"%pip install ipympl\"\n",
    "\n",
    "# Install LMER packages (THIS TAKES ABOUT 3~5 minutes)\n",
    "\n",
    "# # Enable the rpy2 interface, which allows for the seamless integration\n",
    "# # of R within a Python environment.\n",
    "\n",
    "# %load_ext rpy2.ipython\n",
    "# import rpy2\n",
    "# packnames = ('lme4', 'lmerTest', 'emmeans', 'geepack', 'performance', 'graphics', 'ggplot2', 'gglm')\n",
    "# utils = rpy2.robjects.packages.importr(\"utils\")\n",
    "# utils.chooseCRANmirror(ind=1)\n",
    "# utils.install_packages(rpy2.robjects.vectors.StrVector(packnames))"
   ]
  },
  {
   "cell_type": "code",
   "execution_count": 2,
   "id": "d1d06ff4-bd11-47af-af8e-64d1398a156b",
   "metadata": {},
   "outputs": [],
   "source": [
    "# Enable the rpy2 interface, which allows for the seamless integration\n",
    "# of R within a Python environment.\n",
    "%load_ext rpy2.ipython\n",
    "\n",
    "import pandas as pd\n",
    "from psy_data_tool import explore_data"
   ]
  },
  {
   "cell_type": "code",
   "execution_count": 3,
   "id": "3040cd2b-fb54-4a78-8a9a-7311dab2fac5",
   "metadata": {},
   "outputs": [
    {
     "data": {
      "application/vnd.jupyter.widget-view+json": {
       "model_id": "023cd12ee4654ed48cb7499e6f3643ac",
       "version_major": 2,
       "version_minor": 0
      },
      "text/plain": [
       "Summarize dataset:   0%|          | 0/5 [00:00<?, ?it/s]"
      ]
     },
     "metadata": {},
     "output_type": "display_data"
    },
    {
     "name": "stderr",
     "output_type": "stream",
     "text": [
      "/home/franaz/coding/python/.venv/lib/python3.10/site-packages/ydata_profiling/model/correlations.py:66: UserWarning: There was an attempt to calculate the auto correlation, but this failed.\n",
      "To hide this warning, disable the calculation\n",
      "(using `df.profile_report(correlations={\"auto\": {\"calculate\": False}})`\n",
      "If this is problematic for your use case, please report this as an issue:\n",
      "https://github.com/ydataai/ydata-profiling/issues\n",
      "(include the error message: 'could not convert string to float: 'Total'')\n",
      "  warnings.warn(\n"
     ]
    },
    {
     "data": {
      "application/vnd.jupyter.widget-view+json": {
       "model_id": "cd2b6a4048ec473bbc8ba6e0ba4e0d2c",
       "version_major": 2,
       "version_minor": 0
      },
      "text/plain": [
       "Generate report structure:   0%|          | 0/1 [00:00<?, ?it/s]"
      ]
     },
     "metadata": {},
     "output_type": "display_data"
    },
    {
     "data": {
      "application/vnd.jupyter.widget-view+json": {
       "model_id": "3157ac4a2e9948a38f99a1541939fb36",
       "version_major": 2,
       "version_minor": 0
      },
      "text/plain": [
       "Render HTML:   0%|          | 0/1 [00:00<?, ?it/s]"
      ]
     },
     "metadata": {},
     "output_type": "display_data"
    },
    {
     "data": {
      "application/vnd.jupyter.widget-view+json": {
       "model_id": "7d5f81d645c74eacb7841a5e70424808",
       "version_major": 2,
       "version_minor": 0
      },
      "text/plain": [
       "Export report to file:   0%|          | 0/1 [00:00<?, ?it/s]"
      ]
     },
     "metadata": {},
     "output_type": "display_data"
    },
    {
     "data": {
      "application/vnd.jupyter.widget-view+json": {
       "model_id": "9007d67f3ded4c23966f782abde8af31",
       "version_major": 2,
       "version_minor": 0
      },
      "text/plain": [
       "Render JSON:   0%|          | 0/1 [00:00<?, ?it/s]"
      ]
     },
     "metadata": {},
     "output_type": "display_data"
    },
    {
     "data": {
      "application/vnd.jupyter.widget-view+json": {
       "model_id": "1ddb8b20564c44abaa614a5db52accfb",
       "version_major": 2,
       "version_minor": 0
      },
      "text/plain": [
       "Export report to file:   0%|          | 0/1 [00:00<?, ?it/s]"
      ]
     },
     "metadata": {},
     "output_type": "display_data"
    },
    {
     "name": "stdout",
     "output_type": "stream",
     "text": [
      "\n",
      "-----------------------\n",
      "Original df shape: (161, 8)\n",
      "Cleaned df shape: (161, 8)\n",
      "-----------------------\n",
      "\n",
      "-----------------------\n",
      "Variable conversion log\n",
      "-----------------------\n",
      "\n",
      "year: int64 --> float64\n",
      "strata: object --> category\n",
      "strata_name: object --> category\n",
      "frequency: int64 --> float64\n",
      "\n",
      "\n",
      "------------------------------------------------------------------------\n",
      "Generating and comparing 8 models...\n",
      "------------------------------------------------------------------------\n",
      "\n"
     ]
    },
    {
     "name": "stderr",
     "output_type": "stream",
     "text": [
      "Evaluating models:   0%|                                                                          | 0/1 [00:00<?, ?it/s]R[write to console]: boundary (singular) fit: see help('isSingular')\n",
      "\n",
      "R[write to console]: boundary (singular) fit: see help('isSingular')\n",
      "\n",
      "R[write to console]: boundary (singular) fit: see help('isSingular')\n",
      "\n",
      "R[write to console]: boundary (singular) fit: see help('isSingular')\n",
      "\n",
      "R[write to console]: boundary (singular) fit: see help('isSingular')\n",
      "\n"
     ]
    },
    {
     "name": "stdout",
     "output_type": "stream",
     "text": [
      "Random effect variances not available. Returned R2 does not account for random effects.\n"
     ]
    },
    {
     "name": "stderr",
     "output_type": "stream",
     "text": [
      "R[write to console]: boundary (singular) fit: see help('isSingular')\n",
      "\n",
      "R[write to console]: boundary (singular) fit: see help('isSingular')\n",
      "\n"
     ]
    },
    {
     "name": "stdout",
     "output_type": "stream",
     "text": [
      "Random effect variances not available. Returned R2 does not account for random effects.\n"
     ]
    },
    {
     "name": "stderr",
     "output_type": "stream",
     "text": [
      "R[write to console]: boundary (singular) fit: see help('isSingular')\n",
      "\n",
      "R[write to console]: boundary (singular) fit: see help('isSingular')\n",
      "\n"
     ]
    },
    {
     "name": "stdout",
     "output_type": "stream",
     "text": [
      "Random effect variances not available. Returned R2 does not account for random effects.\n"
     ]
    },
    {
     "name": "stderr",
     "output_type": "stream",
     "text": [
      "Evaluating models: 100%|██████████████████████████████████████████████████████████████████| 1/1 [00:05<00:00,  5.69s/it]\n",
      "/home/franaz/coding/python/projects/psy_framework/psy-data-tool_alternative/models_comparison.py:34: RuntimeWarning: invalid value encountered in divide\n",
      "  normalized = (max_val - values) / (max_val - min_val)\n",
      "/home/franaz/coding/python/projects/psy_framework/psy-data-tool_alternative/models_comparison.py:36: RuntimeWarning: invalid value encountered in divide\n",
      "  normalized = (values - min_val) / (max_val - min_val)\n",
      "R[write to console]: In addition: \n",
      "R[write to console]: There were 24 warnings (use warnings() to see them)\n",
      "R[write to console]: \n",
      "\n"
     ]
    },
    {
     "name": "stdout",
     "output_type": "stream",
     "text": [
      "\n",
      "Best Non-Mixed Model: {'formula': 'percent ~ 1', 'aic': 948.5757534334839, 'bic': 951.6571577984683, 'r_squared': 0.0, 'adj_r_squared': 0.0}\n",
      "\n",
      "Best Mixed Model: {'formula': 'percent ~ strata + (1 | strata)', 'aic': 951.7199733366659, 'bic': 976.3712082565416, 'marginal_r_squared': 0.002940135725896213, 'conditional_r_squared': 0.0014467334524250301}\n",
      "\n",
      "Non-mixed model formula: percent ~ 1\n",
      "Mixed model formula: percent ~ strata + (1 | strata)\n"
     ]
    },
    {
     "name": "stderr",
     "output_type": "stream",
     "text": [
      "R[write to console]: In addition: \n",
      "R[write to console]: There were 19 warnings (use warnings() to see them)\n",
      "R[write to console]: \n",
      "\n"
     ]
    },
    {
     "name": "stdout",
     "output_type": "stream",
     "text": [
      "PDF generated successfully: ./rplots.pdf\n"
     ]
    },
    {
     "data": {
      "text/html": [
       "\n",
       "        <iframe\n",
       "            width=\"800\"\n",
       "            height=\"600\"\n",
       "            src=\"./rplots.pdf\"\n",
       "            frameborder=\"0\"\n",
       "            allowfullscreen\n",
       "            \n",
       "        ></iframe>\n",
       "        "
      ],
      "text/plain": [
       "<IPython.lib.display.IFrame at 0x7f240e684e50>"
      ]
     },
     "metadata": {},
     "output_type": "display_data"
    },
    {
     "name": "stdout",
     "output_type": "stream",
     "text": [
      "Warning messages:\n",
      "1: In simpleLoess(y, x, w, span, degree = degree, parametric = parametric,  ... :\n",
      "  pseudoinverse used at 0.0062112\n",
      "2: In simpleLoess(y, x, w, span, degree = degree, parametric = parametric,  ... :\n",
      "  neighborhood radius 3.119e-15\n",
      "3: In simpleLoess(y, x, w, span, degree = degree, parametric = parametric,  ... :\n",
      "  reciprocal condition number  0\n",
      "4: In simpleLoess(y, x, w, span, degree = degree, parametric = parametric,  ... :\n",
      "  at  0.0062112\n",
      "5: In simpleLoess(y, x, w, span, degree = degree, parametric = parametric,  ... :\n",
      "  radius  9.6474e-30\n",
      "6: In simpleLoess(y, x, w, span, degree = degree, parametric = parametric,  ... :\n",
      "  all data on boundary of neighborhood. make span bigger\n",
      "7: In simpleLoess(y, x, w, span, degree = degree, parametric = parametric,  ... :\n",
      "  There are other near singularities as well. 9.6474e-30\n",
      "8: In simpleLoess(y, x, w, span, degree = degree, parametric = parametric,  ... :\n",
      "  zero-width neighborhood. make span bigger\n",
      "9: Failed to fit group -1.\n",
      "Caused by error in `predLoess()`:\n",
      "! NA/NaN/Inf in foreign function call (arg 5)\n",
      "10: In checkConv(attr(opt, \"derivs\"), opt$par, ctrl = control$checkConv,  ... :\n",
      "  unable to evaluate scaled gradient\n",
      "11: In checkConv(attr(opt, \"derivs\"), opt$par, ctrl = control$checkConv,  ... :\n",
      "   Hessian is numerically singular: parameters are not uniquely determined\n",
      "12: In simpleLoess(y, x, w, span, degree = degree, parametric = parametric,  ... :\n",
      "  pseudoinverse used at 0.023214\n",
      "13: In simpleLoess(y, x, w, span, degree = degree, parametric = parametric,  ... :\n",
      "  neighborhood radius 0.0125\n",
      "14: In simpleLoess(y, x, w, span, degree = degree, parametric = parametric,  ... :\n",
      "  reciprocal condition number  1.159e-15\n",
      "15: In simpleLoess(y, x, w, span, degree = degree, parametric = parametric,  ... :\n",
      "  There are other near singularities as well. 5.102e-05\n",
      "16: In predLoess(object$y, object$x, newx = if (is.null(newdata)) object$x else if (is.data.frame(newdata)) as.matrix(model.frame(delete.response(terms(object)),  ... :\n",
      "  pseudoinverse used at 0.023214\n",
      "17: In predLoess(object$y, object$x, newx = if (is.null(newdata)) object$x else if (is.data.frame(newdata)) as.matrix(model.frame(delete.response(terms(object)),  ... :\n",
      "  neighborhood radius 0.0125\n",
      "18: In predLoess(object$y, object$x, newx = if (is.null(newdata)) object$x else if (is.data.frame(newdata)) as.matrix(model.frame(delete.response(terms(object)),  ... :\n",
      "  reciprocal condition number  1.159e-15\n",
      "19: In predLoess(object$y, object$x, newx = if (is.null(newdata)) object$x else if (is.data.frame(newdata)) as.matrix(model.frame(delete.response(terms(object)),  ... :\n",
      "  There are other near singularities as well. 5.102e-05\n",
      "\n"
     ]
    }
   ],
   "source": [
    "# Selected vars must be written in snake_case (for example if var in original\n",
    "# dataframe is 'Weighted Frequency', you have to use the argument 'weighted_frequency')\n",
    "explore_data(df=pd.read_csv(\"../../../../data/data_gov_USA/adult-depression-lghc-indicator-24.csv\"), response_var=\"percent\", predictor_vars=[\"strata\"])"
   ]
  },
  {
   "cell_type": "code",
   "execution_count": null,
   "id": "d24eb53b-3926-4ca4-a16a-02f9d77cf158",
   "metadata": {},
   "outputs": [],
   "source": []
  }
 ],
 "metadata": {
  "kernelspec": {
   "display_name": "data analisys venv",
   "language": "python",
   "name": ".venv"
  },
  "language_info": {
   "codemirror_mode": {
    "name": "ipython",
    "version": 3
   },
   "file_extension": ".py",
   "mimetype": "text/x-python",
   "name": "python",
   "nbconvert_exporter": "python",
   "pygments_lexer": "ipython3",
   "version": "3.10.12"
  }
 },
 "nbformat": 4,
 "nbformat_minor": 5
}
