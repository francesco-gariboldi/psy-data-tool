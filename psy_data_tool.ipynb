{
 "cells": [
  {
   "cell_type": "code",
   "execution_count": null,
   "id": "98488a97-9f6a-422b-b3b9-d9004fbb7101",
   "metadata": {},
   "outputs": [],
   "source": [
    "# You must have R installed sistem-wide at '/usr/lib/R', the default\n",
    "# installation folder in Linux operating systems. Otherwise modify\n",
    "# the path of the R_HOME environment variable according to your R \n",
    "# installation path.\n",
    "# It is recommended to install R from terminal because doing it from jupyter\n",
    "# may cause problems for password typing and admin permissions when\n",
    "# installation commands are run.\n",
    "# It is recommended to install all python packages in a virtual environment.\n",
    "# If you're using a python venv to install packages, install them with\n",
    "# pip with the -m option. This with install the packages in the\n",
    "# virtual environment.\n",
    "# To install them from Jupyter Notebook run \"!python3 -m pip install rpy2\"\n",
    "# in a cell.\n",
    "\n",
    "# Install pillow from Jupyter cell with \"%pip install pillow\"\n",
    "# Install ipympl from Jupyter cell with \"%pip install ipympl\"\n",
    "\n",
    "# Install LMER packages (THIS TAKES ABOUT 3~5 minutes)\n",
    "# packnames = ('lme4', 'lmerTest', 'emmeans', 'geepack', 'performance', 'graphics')\n",
    "# utils = rpy2.robjects.packages.importr(\"utils\")\n",
    "# utils.chooseCRANmirror(ind=1)\n",
    "# utils.install_packages(rpy2.robjects.vectors.StrVector(packnames))"
   ]
  },
  {
   "cell_type": "code",
   "execution_count": 1,
   "id": "d1d06ff4-bd11-47af-af8e-64d1398a156b",
   "metadata": {},
   "outputs": [],
   "source": [
    "# Enable the rpy2 interface, which allows for the seamless integration\n",
    "# of R within a Python environment.\n",
    "%load_ext rpy2.ipython\n",
    "\n",
    "import pandas as pd\n",
    "from psy_data_tool import explore_data"
   ]
  },
  {
   "cell_type": "code",
   "execution_count": 2,
   "id": "3040cd2b-fb54-4a78-8a9a-7311dab2fac5",
   "metadata": {},
   "outputs": [
    {
     "data": {
      "application/vnd.jupyter.widget-view+json": {
       "model_id": "4e3540037533459bbc0b3ab42e0b9ea7",
       "version_major": 2,
       "version_minor": 0
      },
      "text/plain": [
       "Summarize dataset:   0%|          | 0/5 [00:00<?, ?it/s]"
      ]
     },
     "metadata": {},
     "output_type": "display_data"
    },
    {
     "name": "stderr",
     "output_type": "stream",
     "text": [
      "/home/franaz/coding/python/.venv/lib/python3.10/site-packages/ydata_profiling/model/correlations.py:66: UserWarning: There was an attempt to calculate the auto correlation, but this failed.\n",
      "To hide this warning, disable the calculation\n",
      "(using `df.profile_report(correlations={\"auto\": {\"calculate\": False}})`\n",
      "If this is problematic for your use case, please report this as an issue:\n",
      "https://github.com/ydataai/ydata-profiling/issues\n",
      "(include the error message: 'could not convert string to float: 'S'')\n",
      "  warnings.warn(\n",
      "/home/franaz/coding/python/.venv/lib/python3.10/site-packages/seaborn/matrix.py:260: FutureWarning: Format strings passed to MaskedConstant are ignored, but in future may error or produce different behavior\n",
      "  annotation = (\"{:\" + self.fmt + \"}\").format(val)\n",
      "/home/franaz/coding/python/.venv/lib/python3.10/site-packages/ydata_profiling/model/missing.py:78: UserWarning: There was an attempt to generate the Heatmap missing values diagrams, but this failed.\n",
      "To hide this warning, disable the calculation\n",
      "(using `df.profile_report(missing_diagrams={\"Heatmap\": False}`)\n",
      "If this is problematic for your use case, please report this as an issue:\n",
      "https://github.com/ydataai/ydata-profiling/issues\n",
      "(include the error message: 'could not convert string to float: '--'')\n",
      "  warnings.warn(\n"
     ]
    },
    {
     "data": {
      "application/vnd.jupyter.widget-view+json": {
       "model_id": "ed33366579d84fbaa1acee3bc099c74e",
       "version_major": 2,
       "version_minor": 0
      },
      "text/plain": [
       "Generate report structure:   0%|          | 0/1 [00:00<?, ?it/s]"
      ]
     },
     "metadata": {},
     "output_type": "display_data"
    },
    {
     "data": {
      "application/vnd.jupyter.widget-view+json": {
       "model_id": "e12e4bd6e5684fa9b933403f805d37bf",
       "version_major": 2,
       "version_minor": 0
      },
      "text/plain": [
       "Render HTML:   0%|          | 0/1 [00:00<?, ?it/s]"
      ]
     },
     "metadata": {},
     "output_type": "display_data"
    },
    {
     "data": {
      "application/vnd.jupyter.widget-view+json": {
       "model_id": "9f736f6155d44cc6b3c26309e659b754",
       "version_major": 2,
       "version_minor": 0
      },
      "text/plain": [
       "Export report to file:   0%|          | 0/1 [00:00<?, ?it/s]"
      ]
     },
     "metadata": {},
     "output_type": "display_data"
    },
    {
     "data": {
      "application/vnd.jupyter.widget-view+json": {
       "model_id": "c5ea0b7ecc194e608566a493731be3ef",
       "version_major": 2,
       "version_minor": 0
      },
      "text/plain": [
       "Render JSON:   0%|          | 0/1 [00:00<?, ?it/s]"
      ]
     },
     "metadata": {},
     "output_type": "display_data"
    },
    {
     "data": {
      "application/vnd.jupyter.widget-view+json": {
       "model_id": "2a86255588e04b0ca91b7d9c5ec2e608",
       "version_major": 2,
       "version_minor": 0
      },
      "text/plain": [
       "Export report to file:   0%|          | 0/1 [00:00<?, ?it/s]"
      ]
     },
     "metadata": {},
     "output_type": "display_data"
    },
    {
     "name": "stdout",
     "output_type": "stream",
     "text": [
      "\n",
      "-----------------------\n",
      "Original df shape: (891, 12)\n",
      "Cleaned df shape: (891, 11)\n",
      "-----------------------\n",
      "\n",
      "'Column cabin not found in DataFrame'\n",
      "-----------------------\n",
      "Variable conversion log\n",
      "-----------------------\n",
      "\n",
      "survived: int64 --> category\n",
      "pclass: int64 --> category\n",
      "sex: object --> category\n",
      "embarked: object --> category\n",
      "\n",
      "\n",
      "------------------------------------------------------------------------\n",
      "Generating and comparing 40 models...\n",
      "------------------------------------------------------------------------\n",
      "\n"
     ]
    },
    {
     "name": "stderr",
     "output_type": "stream",
     "text": [
      "Evaluating models:  25%|████████████████████▎                                                            | 1/4 [00:02<00:07,  2.51s/it]R[write to console]: boundary (singular) fit: see help('isSingular')\n",
      "\n",
      "R[write to console]: boundary (singular) fit: see help('isSingular')\n",
      "\n"
     ]
    },
    {
     "name": "stdout",
     "output_type": "stream",
     "text": [
      "Random effect variances not available. Returned R2 does not account for random effects.\n"
     ]
    },
    {
     "name": "stderr",
     "output_type": "stream",
     "text": [
      "R[write to console]: boundary (singular) fit: see help('isSingular')\n",
      "\n",
      "R[write to console]: boundary (singular) fit: see help('isSingular')\n",
      "\n"
     ]
    },
    {
     "name": "stdout",
     "output_type": "stream",
     "text": [
      "Random effect variances not available. Returned R2 does not account for random effects.\n"
     ]
    },
    {
     "name": "stderr",
     "output_type": "stream",
     "text": [
      "R[write to console]: boundary (singular) fit: see help('isSingular')\n",
      "\n",
      "R[write to console]: boundary (singular) fit: see help('isSingular')\n",
      "\n"
     ]
    },
    {
     "name": "stdout",
     "output_type": "stream",
     "text": [
      "Random effect variances not available. Returned R2 does not account for random effects.\n"
     ]
    },
    {
     "name": "stderr",
     "output_type": "stream",
     "text": [
      "R[write to console]: boundary (singular) fit: see help('isSingular')\n",
      "\n",
      "R[write to console]: boundary (singular) fit: see help('isSingular')\n",
      "\n"
     ]
    },
    {
     "name": "stdout",
     "output_type": "stream",
     "text": [
      "Random effect variances not available. Returned R2 does not account for random effects.\n"
     ]
    },
    {
     "name": "stderr",
     "output_type": "stream",
     "text": [
      "R[write to console]: boundary (singular) fit: see help('isSingular')\n",
      "\n",
      "R[write to console]: boundary (singular) fit: see help('isSingular')\n",
      "\n",
      "R[write to console]: boundary (singular) fit: see help('isSingular')\n",
      "\n"
     ]
    },
    {
     "name": "stdout",
     "output_type": "stream",
     "text": [
      "Random effect variances not available. Returned R2 does not account for random effects.\n"
     ]
    },
    {
     "name": "stderr",
     "output_type": "stream",
     "text": [
      "R[write to console]: boundary (singular) fit: see help('isSingular')\n",
      "\n",
      "R[write to console]: boundary (singular) fit: see help('isSingular')\n",
      "\n"
     ]
    },
    {
     "name": "stdout",
     "output_type": "stream",
     "text": [
      "Random effect variances not available. Returned R2 does not account for random effects.\n"
     ]
    },
    {
     "name": "stderr",
     "output_type": "stream",
     "text": [
      "R[write to console]: boundary (singular) fit: see help('isSingular')\n",
      "\n",
      "R[write to console]: boundary (singular) fit: see help('isSingular')\n",
      "\n"
     ]
    },
    {
     "name": "stdout",
     "output_type": "stream",
     "text": [
      "Random effect variances not available. Returned R2 does not account for random effects.\n"
     ]
    },
    {
     "name": "stderr",
     "output_type": "stream",
     "text": [
      "Evaluating models:  50%|████████████████████████████████████████▌                                        | 2/4 [00:09<00:10,  5.28s/it]R[write to console]: boundary (singular) fit: see help('isSingular')\n",
      "\n",
      "R[write to console]: boundary (singular) fit: see help('isSingular')\n",
      "\n"
     ]
    },
    {
     "name": "stdout",
     "output_type": "stream",
     "text": [
      "Random effect variances not available. Returned R2 does not account for random effects.\n"
     ]
    },
    {
     "name": "stderr",
     "output_type": "stream",
     "text": [
      "R[write to console]: boundary (singular) fit: see help('isSingular')\n",
      "\n",
      "R[write to console]: boundary (singular) fit: see help('isSingular')\n",
      "\n"
     ]
    },
    {
     "name": "stdout",
     "output_type": "stream",
     "text": [
      "Random effect variances not available. Returned R2 does not account for random effects.\n"
     ]
    },
    {
     "name": "stderr",
     "output_type": "stream",
     "text": [
      "R[write to console]: boundary (singular) fit: see help('isSingular')\n",
      "\n",
      "R[write to console]: boundary (singular) fit: see help('isSingular')\n",
      "\n"
     ]
    },
    {
     "name": "stdout",
     "output_type": "stream",
     "text": [
      "Random effect variances not available. Returned R2 does not account for random effects.\n"
     ]
    },
    {
     "name": "stderr",
     "output_type": "stream",
     "text": [
      "R[write to console]: boundary (singular) fit: see help('isSingular')\n",
      "\n"
     ]
    },
    {
     "name": "stdout",
     "output_type": "stream",
     "text": [
      "Random effect variances not available. Returned R2 does not account for random effects.\n"
     ]
    },
    {
     "name": "stderr",
     "output_type": "stream",
     "text": [
      "Evaluating models:  75%|████████████████████████████████████████████████████████████▊                    | 3/4 [00:15<00:05,  5.32s/it]R[write to console]: boundary (singular) fit: see help('isSingular')\n",
      "\n",
      "R[write to console]: boundary (singular) fit: see help('isSingular')\n",
      "\n"
     ]
    },
    {
     "name": "stdout",
     "output_type": "stream",
     "text": [
      "Random effect variances not available. Returned R2 does not account for random effects.\n"
     ]
    },
    {
     "name": "stderr",
     "output_type": "stream",
     "text": [
      "R[write to console]: boundary (singular) fit: see help('isSingular')\n",
      "\n",
      "R[write to console]: boundary (singular) fit: see help('isSingular')\n",
      "\n"
     ]
    },
    {
     "name": "stdout",
     "output_type": "stream",
     "text": [
      "Random effect variances not available. Returned R2 does not account for random effects.\n"
     ]
    },
    {
     "name": "stderr",
     "output_type": "stream",
     "text": [
      "R[write to console]: boundary (singular) fit: see help('isSingular')\n",
      "\n",
      "R[write to console]: boundary (singular) fit: see help('isSingular')\n",
      "\n"
     ]
    },
    {
     "name": "stdout",
     "output_type": "stream",
     "text": [
      "Random effect variances not available. Returned R2 does not account for random effects.\n"
     ]
    },
    {
     "name": "stderr",
     "output_type": "stream",
     "text": [
      "R[write to console]: boundary (singular) fit: see help('isSingular')\n",
      "\n",
      "R[write to console]: boundary (singular) fit: see help('isSingular')\n",
      "\n"
     ]
    },
    {
     "name": "stdout",
     "output_type": "stream",
     "text": [
      "Random effect variances not available. Returned R2 does not account for random effects.\n"
     ]
    },
    {
     "name": "stderr",
     "output_type": "stream",
     "text": [
      "R[write to console]: boundary (singular) fit: see help('isSingular')\n",
      "\n",
      "R[write to console]: boundary (singular) fit: see help('isSingular')\n",
      "\n"
     ]
    },
    {
     "name": "stdout",
     "output_type": "stream",
     "text": [
      "Random effect variances not available. Returned R2 does not account for random effects.\n"
     ]
    },
    {
     "name": "stderr",
     "output_type": "stream",
     "text": [
      "R[write to console]: boundary (singular) fit: see help('isSingular')\n",
      "\n",
      "R[write to console]: boundary (singular) fit: see help('isSingular')\n",
      "\n"
     ]
    },
    {
     "name": "stdout",
     "output_type": "stream",
     "text": [
      "Random effect variances not available. Returned R2 does not account for random effects.\n"
     ]
    },
    {
     "name": "stderr",
     "output_type": "stream",
     "text": [
      "R[write to console]: boundary (singular) fit: see help('isSingular')\n",
      "\n",
      "R[write to console]: boundary (singular) fit: see help('isSingular')\n",
      "\n"
     ]
    },
    {
     "name": "stdout",
     "output_type": "stream",
     "text": [
      "Random effect variances not available. Returned R2 does not account for random effects.\n"
     ]
    },
    {
     "name": "stderr",
     "output_type": "stream",
     "text": [
      "Evaluating models: 100%|█████████████████████████████████████████████████████████████████████████████████| 4/4 [00:21<00:00,  5.50s/it]\n",
      "R[write to console]: In addition: \n",
      "R[write to console]: There were 50 or more warnings (use warnings() to see the first 50)\n",
      "R[write to console]: \n",
      "\n"
     ]
    },
    {
     "name": "stdout",
     "output_type": "stream",
     "text": [
      "\n",
      "Best Non-Mixed Model: {'formula': 'age ~ survived', 'aic': 11640.117184131024, 'bic': 11649.701872985966, 'r_squared': 0.009479065631399664, 'adj_r_squared': 0.00836486885483212}\n",
      "\n",
      "Best Mixed Model: {'formula': 'age ~ survived + (0 + survived | sex)', 'aic': 11636.138616468017, 'bic': 11664.892683032842, 'conditional_r_squared': 0.009468515841869921}\n",
      "\n"
     ]
    },
    {
     "name": "stderr",
     "output_type": "stream",
     "text": [
      "R[write to console]: boundary (singular) fit: see help('isSingular')\n",
      "\n"
     ]
    },
    {
     "data": {
      "text/html": [
       "\n",
       "        <iframe\n",
       "            width=\"800\"\n",
       "            height=\"600\"\n",
       "            src=\"./rplot.pdf\"\n",
       "            frameborder=\"0\"\n",
       "            allowfullscreen\n",
       "            \n",
       "        ></iframe>\n",
       "        "
      ],
      "text/plain": [
       "<IPython.lib.display.IFrame at 0x7f5c8437fd30>"
      ]
     },
     "metadata": {},
     "output_type": "display_data"
    },
    {
     "name": "stdout",
     "output_type": "stream",
     "text": [
      "Warning messages:\n",
      "1: In (function (package, help, pos = 2, lib.loc = NULL,  ... :\n",
      "  library ‘/usr/lib/R/site-library’ contains no packages\n",
      "2: In (function (package, help, pos = 2, lib.loc = NULL,  ... :\n",
      "  library ‘/usr/lib/R/site-library’ contains no packages\n",
      "3: In (function (package, help, pos = 2, lib.loc = NULL,  ... :\n",
      "  library ‘/usr/lib/R/site-library’ contains no packages\n",
      "4: In (function (package, help, pos = 2, lib.loc = NULL,  ... :\n",
      "  library ‘/usr/lib/R/site-library’ contains no packages\n",
      "5: In (function (package, help, pos = 2, lib.loc = NULL,  ... :\n",
      "  library ‘/usr/lib/R/site-library’ contains no packages\n",
      "6: In (function (package, help, pos = 2, lib.loc = NULL,  ... :\n",
      "  library ‘/usr/lib/R/site-library’ contains no packages\n",
      "7: In checkConv(attr(opt, \"derivs\"), opt$par, ctrl = control$checkConv,  ... :\n",
      "  unable to evaluate scaled gradient\n",
      "8: In checkConv(attr(opt, \"derivs\"), opt$par, ctrl = control$checkConv,  ... :\n",
      "   Hessian is numerically singular: parameters are not uniquely determined\n",
      "9: In as_lmerModLT(model, devfun) :\n",
      "  Model may not have converged with 1 eigenvalue close to zero: 2.3e-09\n",
      "10: In checkConv(attr(opt, \"derivs\"), opt$par, ctrl = control$checkConv,  ... :\n",
      "  unable to evaluate scaled gradient\n",
      "11: In checkConv(attr(opt, \"derivs\"), opt$par, ctrl = control$checkConv,  ... :\n",
      "   Hessian is numerically singular: parameters are not uniquely determined\n",
      "12: Can't compute random effect variances. Some variance components equal\n",
      "  zero. Your model may suffer from singularity (see `?lme4::isSingular`\n",
      "  and `?performance::check_singularity`).\n",
      "  Solution: Respecify random structure! You may also decrease the\n",
      "  `tolerance` level to enforce the calculation of random effect variances.\n",
      "13: Random slopes not present as fixed effects. This artificially inflates\n",
      "  the conditional random effect variances.\n",
      "  Solution: Respecify fixed structure!\n",
      "14: Model failed to converge with 1 negative eigenvalue: -9.8e-04\n",
      "15: Can't compute random effect variances. Some variance components equal\n",
      "  zero. Your model may suffer from singularity (see `?lme4::isSingular`\n",
      "  and `?performance::check_singularity`).\n",
      "  Solution: Respecify random structure! You may also decrease the\n",
      "  `tolerance` level to enforce the calculation of random effect variances.\n",
      "16: Random slopes not present as fixed effects. This artificially inflates\n",
      "  the conditional random effect variances.\n",
      "  Solution: Respecify fixed structure!\n",
      "17: Model failed to converge with 1 negative eigenvalue: -5.9e+01\n",
      "18: Can't compute random effect variances. Some variance components equal\n",
      "  zero. Your model may suffer from singularity (see `?lme4::isSingular`\n",
      "  and `?performance::check_singularity`).\n",
      "  Solution: Respecify random structure! You may also decrease the\n",
      "  `tolerance` level to enforce the calculation of random effect variances.\n",
      "19: Model failed to converge with 1 negative eigenvalue: -1.1e-05\n",
      "20: Can't compute random effect variances. Some variance components equal\n",
      "  zero. Your model may suffer from singularity (see `?lme4::isSingular`\n",
      "  and `?performance::check_singularity`).\n",
      "  Solution: Respecify random structure! You may also decrease the\n",
      "  `tolerance` level to enforce the calculation of random effect variances.\n",
      "21: In checkConv(attr(opt, \"derivs\"), opt$par, ctrl = control$checkConv,  ... :\n",
      "  unable to evaluate scaled gradient\n",
      "22: In checkConv(attr(opt, \"derivs\"), opt$par, ctrl = control$checkConv,  ... :\n",
      "  Model failed to converge: degenerate  Hessian with 1 negative eigenvalues\n",
      "23: Model failed to converge with 1 negative eigenvalue: -6.2e-07\n",
      "24: Can't compute random effect variances. Some variance components equal\n",
      "  zero. Your model may suffer from singularity (see `?lme4::isSingular`\n",
      "  and `?performance::check_singularity`).\n",
      "  Solution: Respecify random structure! You may also decrease the\n",
      "  `tolerance` level to enforce the calculation of random effect variances.\n",
      "25: Random slopes not present as fixed effects. This artificially inflates\n",
      "  the conditional random effect variances.\n",
      "  Solution: Respecify fixed structure!\n",
      "26: In checkConv(attr(opt, \"derivs\"), opt$par, ctrl = control$checkConv,  ... :\n",
      "  unable to evaluate scaled gradient\n",
      "27: In checkConv(attr(opt, \"derivs\"), opt$par, ctrl = control$checkConv,  ... :\n",
      "  Model failed to converge: degenerate  Hessian with 1 negative eigenvalues\n",
      "28: Model failed to converge with 2 negative eigenvalues: -4.2e-06 -8.9e-05\n",
      "29: Random slopes not present as fixed effects. This artificially inflates\n",
      "  the conditional random effect variances.\n",
      "  Solution: Respecify fixed structure!\n",
      "30: Can't compute random effect variances. Some variance components equal\n",
      "  zero. Your model may suffer from singularity (see `?lme4::isSingular`\n",
      "  and `?performance::check_singularity`).\n",
      "  Solution: Respecify random structure! You may also decrease the\n",
      "  `tolerance` level to enforce the calculation of random effect variances.\n",
      "31: Can't compute random effect variances. Some variance components equal\n",
      "  zero. Your model may suffer from singularity (see `?lme4::isSingular`\n",
      "  and `?performance::check_singularity`).\n",
      "  Solution: Respecify random structure! You may also decrease the\n",
      "  `tolerance` level to enforce the calculation of random effect variances.\n",
      "32: In checkConv(attr(opt, \"derivs\"), opt$par, ctrl = control$checkConv,  ... :\n",
      "  unable to evaluate scaled gradient\n",
      "33: In checkConv(attr(opt, \"derivs\"), opt$par, ctrl = control$checkConv,  ... :\n",
      "   Hessian is numerically singular: parameters are not uniquely determined\n",
      "34: In as_lmerModLT(model, devfun) :\n",
      "  Model may not have converged with 1 eigenvalue close to zero: -4.4e-18\n",
      "35: In checkConv(attr(opt, \"derivs\"), opt$par, ctrl = control$checkConv,  ... :\n",
      "  unable to evaluate scaled gradient\n",
      "36: In checkConv(attr(opt, \"derivs\"), opt$par, ctrl = control$checkConv,  ... :\n",
      "  Model failed to converge: degenerate  Hessian with 2 negative eigenvalues\n",
      "37: Model failed to converge with 2 negative eigenvalues: -2.2e-03 -1.2e-02\n",
      "38: Random slopes not present as fixed effects. This artificially inflates\n",
      "  the conditional random effect variances.\n",
      "  Solution: Respecify fixed structure!\n",
      "39: In checkConv(attr(opt, \"derivs\"), opt$par, ctrl = control$checkConv,  ... :\n",
      "  unable to evaluate scaled gradient\n",
      "40: In checkConv(attr(opt, \"derivs\"), opt$par, ctrl = control$checkConv,  ... :\n",
      "   Hessian is numerically singular: parameters are not uniquely determined\n",
      "41: In as_lmerModLT(model, devfun) :\n",
      "  Model may not have converged with 1 eigenvalue close to zero: 2.3e-09\n",
      "42: In checkConv(attr(opt, \"derivs\"), opt$par, ctrl = control$checkConv,  ... :\n",
      "  unable to evaluate scaled gradient\n",
      "43: In checkConv(attr(opt, \"derivs\"), opt$par, ctrl = control$checkConv,  ... :\n",
      "  Model failed to converge: degenerate  Hessian with 1 negative eigenvalues\n",
      "44: Model failed to converge with 1 negative eigenvalue: -1.2e-05\n",
      "45: Model failed to converge with 1 negative eigenvalue: -5.0e-08\n",
      "46: Can't compute random effect variances. Some variance components equal\n",
      "  zero. Your model may suffer from singularity (see `?lme4::isSingular`\n",
      "  and `?performance::check_singularity`).\n",
      "  Solution: Respecify random structure! You may also decrease the\n",
      "  `tolerance` level to enforce the calculation of random effect variances.\n",
      "47: Model failed to converge with 1 negative eigenvalue: -2.3e+02\n",
      "48: Can't compute random effect variances. Some variance components equal\n",
      "  zero. Your model may suffer from singularity (see `?lme4::isSingular`\n",
      "  and `?performance::check_singularity`).\n",
      "  Solution: Respecify random structure! You may also decrease the\n",
      "  `tolerance` level to enforce the calculation of random effect variances.\n",
      "49: Random slopes not present as fixed effects. This artificially inflates\n",
      "  the conditional random effect variances.\n",
      "  Solution: Respecify fixed structure!\n",
      "50: Can't compute random effect variances. Some variance components equal\n",
      "  zero. Your model may suffer from singularity (see `?lme4::isSingular`\n",
      "  and `?performance::check_singularity`).\n",
      "  Solution: Respecify random structure! You may also decrease the\n",
      "  `tolerance` level to enforce the calculation of random effect variances.\n",
      "\n"
     ]
    }
   ],
   "source": [
    "explore_data(df=pd.read_csv(\"./data/Titanic-Dataset.csv\"), response_var=\"age\", predictor_vars=[\"survived\", \"sex\"])"
   ]
  },
  {
   "cell_type": "code",
   "execution_count": null,
   "id": "d24eb53b-3926-4ca4-a16a-02f9d77cf158",
   "metadata": {},
   "outputs": [],
   "source": []
  }
 ],
 "metadata": {
  "kernelspec": {
   "display_name": "data analisys venv",
   "language": "python",
   "name": ".venv"
  },
  "language_info": {
   "codemirror_mode": {
    "name": "ipython",
    "version": 3
   },
   "file_extension": ".py",
   "mimetype": "text/x-python",
   "name": "python",
   "nbconvert_exporter": "python",
   "pygments_lexer": "ipython3",
   "version": "3.10.12"
  }
 },
 "nbformat": 4,
 "nbformat_minor": 5
}
