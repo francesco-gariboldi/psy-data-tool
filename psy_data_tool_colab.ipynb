{
  "cells": [
    {
      "cell_type": "markdown",
      "metadata": {
        "id": "KtHQhXiKHGua"
      },
      "source": [
        "Google Colab’s underlying virtual machine actually includes R by default. However, the default runtime environment is set up for Python. This means you can access R—for example, by using the %%R cell magic provided through rpy2 (which is pre-installed)—or by switching to an R-specific kernel if you prefer running an all-R notebook. For psy-data-tool to work a Python kernel is needed, and rpy2 is used to let Python communicate with R, hence using both the languages and their features in the same notebook.\n",
        "\n",
        "Check if rpy2 is already in the remote kernel (it should be by default). It is necessary to have it before verifying if R is installed (when running a Python runtime. You don't need this in an R-specific runtime)."
      ]
    },
    {
      "cell_type": "code",
      "source": [
        "# Check rpy2\n",
        "import rpy2\n",
        "print(rpy2.__version__)\n",
        "\n",
        "# load rpy2\n",
        "%load_ext rpy2.ipython"
      ],
      "metadata": {
        "colab": {
          "base_uri": "https://localhost:8080/"
        },
        "id": "1wWxeCI5kMUr",
        "outputId": "fa7e3899-ed2f-465c-a96c-24ffba53917a"
      },
      "execution_count": 1,
      "outputs": [
        {
          "output_type": "stream",
          "name": "stdout",
          "text": [
            "3.5.17\n"
          ]
        }
      ]
    },
    {
      "cell_type": "markdown",
      "source": [
        "This allows you to use `%R` or `%%R` magic commands in Python cells. Here you can find the documentation about IPython magics. For example the following should show you the installed R version:\n"
      ],
      "metadata": {
        "id": "44xJjEGVm-So"
      }
    },
    {
      "cell_type": "code",
      "source": [
        "# Check R\n",
        "%%R\n",
        "R.version.string"
      ],
      "metadata": {
        "colab": {
          "base_uri": "https://localhost:8080/"
        },
        "id": "nX9iqqKmkZzK",
        "outputId": "ba225a7c-7d15-49ec-8dd3-f000223bf7d5"
      },
      "execution_count": 2,
      "outputs": [
        {
          "output_type": "stream",
          "name": "stdout",
          "text": [
            "[1] \"R version 4.4.2 (2024-10-31)\"\n"
          ]
        }
      ]
    },
    {
      "cell_type": "markdown",
      "source": [
        "Clone the psy-data-tool repository (after resetting previous version if existing):"
      ],
      "metadata": {
        "id": "SaWIN5phkNjm"
      }
    },
    {
      "cell_type": "code",
      "execution_count": 3,
      "metadata": {
        "colab": {
          "base_uri": "https://localhost:8080/"
        },
        "id": "74vd1BvlQnpm",
        "outputId": "cfcf277b-b9f4-4d48-c69d-cd634024249e"
      },
      "outputs": [
        {
          "output_type": "stream",
          "name": "stdout",
          "text": [
            "Cloning into 'psy-data-tool'...\n",
            "remote: Enumerating objects: 148, done.\u001b[K\n",
            "remote: Counting objects: 100% (148/148), done.\u001b[K\n",
            "remote: Compressing objects: 100% (109/109), done.\u001b[K\n",
            "remote: Total 148 (delta 89), reused 90 (delta 39), pack-reused 0 (from 0)\u001b[K\n",
            "Receiving objects: 100% (148/148), 258.18 KiB | 3.00 MiB/s, done.\n",
            "Resolving deltas: 100% (89/89), done.\n"
          ]
        }
      ],
      "source": [
        "!rm -rf psy-data-tool\n",
        "!git clone https://github.com/francesco-gariboldi/psy-data-tool.git"
      ]
    },
    {
      "cell_type": "markdown",
      "metadata": {
        "id": "l25sSI2W0fki"
      },
      "source": [
        "Let's move into the cloned project directory on the remote server:"
      ]
    },
    {
      "cell_type": "code",
      "execution_count": 4,
      "metadata": {
        "colab": {
          "base_uri": "https://localhost:8080/"
        },
        "id": "OaTZBH290wmt",
        "outputId": "32a2a7b7-61a3-4df6-8b2b-b9b64ca46f9e"
      },
      "outputs": [
        {
          "output_type": "stream",
          "name": "stdout",
          "text": [
            "/content/psy-data-tool\n"
          ]
        }
      ],
      "source": [
        "# Note that !cd doesn’t work for this purpose because the shell where !command\n",
        "# runs is immediately discarded after executing ‘command’.\n",
        "%cd psy-data-tool"
      ]
    },
    {
      "cell_type": "markdown",
      "metadata": {
        "id": "SpXrXCJHHvc7"
      },
      "source": [
        "To avoid possible conflicts in the remote machine, we'll create and activate a virtual environment for python packages.\n",
        "\n",
        "Next, install python packages. Install all packages at once with the following command (using the `requirements.txt` file, already existing within the repository).\n",
        "\n",
        "_(While `!pip install rpy2` works too, `%pip install rpy2` is often recommended within notebooks because it ensures installation into the environment backing the current IPython kernel.)_"
      ]
    },
    {
      "cell_type": "code",
      "execution_count": 5,
      "metadata": {
        "colab": {
          "base_uri": "https://localhost:8080/"
        },
        "id": "FSr6XvvZHwoY",
        "outputId": "856c0172-f9eb-46d5-824e-a3dd340ed9b0"
      },
      "outputs": [
        {
          "output_type": "stream",
          "name": "stdout",
          "text": [
            "Requirement already satisfied: ipython==8.12.3 in /usr/local/lib/python3.11/dist-packages (from -r requirements.txt (line 1)) (8.12.3)\n",
            "Requirement already satisfied: matplotlib==3.9.2 in /usr/local/lib/python3.11/dist-packages (from -r requirements.txt (line 2)) (3.9.2)\n",
            "Requirement already satisfied: matplotlib-inline==0.1.7 in /usr/local/lib/python3.11/dist-packages (from -r requirements.txt (line 3)) (0.1.7)\n",
            "Requirement already satisfied: numpy==2.0.2 in /usr/local/lib/python3.11/dist-packages (from -r requirements.txt (line 4)) (2.0.2)\n",
            "Requirement already satisfied: pandas==2.2.3 in /usr/local/lib/python3.11/dist-packages (from -r requirements.txt (line 5)) (2.2.3)\n",
            "Requirement already satisfied: rpy2==3.5.17 in /usr/local/lib/python3.11/dist-packages (from -r requirements.txt (line 6)) (3.5.17)\n",
            "Requirement already satisfied: statsmodels==0.14.4 in /usr/local/lib/python3.11/dist-packages (from -r requirements.txt (line 7)) (0.14.4)\n",
            "Requirement already satisfied: tqdm==4.67.1 in /usr/local/lib/python3.11/dist-packages (from -r requirements.txt (line 8)) (4.67.1)\n",
            "Requirement already satisfied: ydata_profiling==4.12.1 in /usr/local/lib/python3.11/dist-packages (from -r requirements.txt (line 9)) (4.12.1)\n",
            "Requirement already satisfied: backcall in /usr/local/lib/python3.11/dist-packages (from ipython==8.12.3->-r requirements.txt (line 1)) (0.2.0)\n",
            "Requirement already satisfied: decorator in /usr/local/lib/python3.11/dist-packages (from ipython==8.12.3->-r requirements.txt (line 1)) (4.4.2)\n",
            "Requirement already satisfied: jedi>=0.16 in /usr/local/lib/python3.11/dist-packages (from ipython==8.12.3->-r requirements.txt (line 1)) (0.19.2)\n",
            "Requirement already satisfied: pickleshare in /usr/local/lib/python3.11/dist-packages (from ipython==8.12.3->-r requirements.txt (line 1)) (0.7.5)\n",
            "Requirement already satisfied: prompt-toolkit!=3.0.37,<3.1.0,>=3.0.30 in /usr/local/lib/python3.11/dist-packages (from ipython==8.12.3->-r requirements.txt (line 1)) (3.0.50)\n",
            "Requirement already satisfied: pygments>=2.4.0 in /usr/local/lib/python3.11/dist-packages (from ipython==8.12.3->-r requirements.txt (line 1)) (2.18.0)\n",
            "Requirement already satisfied: stack-data in /usr/local/lib/python3.11/dist-packages (from ipython==8.12.3->-r requirements.txt (line 1)) (0.6.3)\n",
            "Requirement already satisfied: traitlets>=5 in /usr/local/lib/python3.11/dist-packages (from ipython==8.12.3->-r requirements.txt (line 1)) (5.7.1)\n",
            "Requirement already satisfied: pexpect>4.3 in /usr/local/lib/python3.11/dist-packages (from ipython==8.12.3->-r requirements.txt (line 1)) (4.9.0)\n",
            "Requirement already satisfied: contourpy>=1.0.1 in /usr/local/lib/python3.11/dist-packages (from matplotlib==3.9.2->-r requirements.txt (line 2)) (1.3.1)\n",
            "Requirement already satisfied: cycler>=0.10 in /usr/local/lib/python3.11/dist-packages (from matplotlib==3.9.2->-r requirements.txt (line 2)) (0.12.1)\n",
            "Requirement already satisfied: fonttools>=4.22.0 in /usr/local/lib/python3.11/dist-packages (from matplotlib==3.9.2->-r requirements.txt (line 2)) (4.56.0)\n",
            "Requirement already satisfied: kiwisolver>=1.3.1 in /usr/local/lib/python3.11/dist-packages (from matplotlib==3.9.2->-r requirements.txt (line 2)) (1.4.8)\n",
            "Requirement already satisfied: packaging>=20.0 in /usr/local/lib/python3.11/dist-packages (from matplotlib==3.9.2->-r requirements.txt (line 2)) (24.2)\n",
            "Requirement already satisfied: pillow>=8 in /usr/local/lib/python3.11/dist-packages (from matplotlib==3.9.2->-r requirements.txt (line 2)) (11.1.0)\n",
            "Requirement already satisfied: pyparsing>=2.3.1 in /usr/local/lib/python3.11/dist-packages (from matplotlib==3.9.2->-r requirements.txt (line 2)) (3.2.1)\n",
            "Requirement already satisfied: python-dateutil>=2.7 in /usr/local/lib/python3.11/dist-packages (from matplotlib==3.9.2->-r requirements.txt (line 2)) (2.8.2)\n",
            "Requirement already satisfied: pytz>=2020.1 in /usr/local/lib/python3.11/dist-packages (from pandas==2.2.3->-r requirements.txt (line 5)) (2025.1)\n",
            "Requirement already satisfied: tzdata>=2022.7 in /usr/local/lib/python3.11/dist-packages (from pandas==2.2.3->-r requirements.txt (line 5)) (2025.1)\n",
            "Requirement already satisfied: cffi>=1.15.1 in /usr/local/lib/python3.11/dist-packages (from rpy2==3.5.17->-r requirements.txt (line 6)) (1.17.1)\n",
            "Requirement already satisfied: jinja2 in /usr/local/lib/python3.11/dist-packages (from rpy2==3.5.17->-r requirements.txt (line 6)) (3.1.5)\n",
            "Requirement already satisfied: tzlocal in /usr/local/lib/python3.11/dist-packages (from rpy2==3.5.17->-r requirements.txt (line 6)) (5.3)\n",
            "Requirement already satisfied: scipy!=1.9.2,>=1.8 in /usr/local/lib/python3.11/dist-packages (from statsmodels==0.14.4->-r requirements.txt (line 7)) (1.13.1)\n",
            "Requirement already satisfied: patsy>=0.5.6 in /usr/local/lib/python3.11/dist-packages (from statsmodels==0.14.4->-r requirements.txt (line 7)) (1.0.1)\n",
            "Requirement already satisfied: pydantic>=2 in /usr/local/lib/python3.11/dist-packages (from ydata_profiling==4.12.1->-r requirements.txt (line 9)) (2.10.6)\n",
            "Requirement already satisfied: PyYAML<6.1,>=5.0.0 in /usr/local/lib/python3.11/dist-packages (from ydata_profiling==4.12.1->-r requirements.txt (line 9)) (6.0.2)\n",
            "Requirement already satisfied: visions<0.7.7,>=0.7.5 in /usr/local/lib/python3.11/dist-packages (from visions[type_image_path]<0.7.7,>=0.7.5->ydata_profiling==4.12.1->-r requirements.txt (line 9)) (0.7.6)\n",
            "Requirement already satisfied: htmlmin==0.1.12 in /usr/local/lib/python3.11/dist-packages (from ydata_profiling==4.12.1->-r requirements.txt (line 9)) (0.1.12)\n",
            "Requirement already satisfied: phik<0.13,>=0.11.1 in /usr/local/lib/python3.11/dist-packages (from ydata_profiling==4.12.1->-r requirements.txt (line 9)) (0.12.4)\n",
            "Requirement already satisfied: requests<3,>=2.24.0 in /usr/local/lib/python3.11/dist-packages (from ydata_profiling==4.12.1->-r requirements.txt (line 9)) (2.32.3)\n",
            "Requirement already satisfied: seaborn<0.14,>=0.10.1 in /usr/local/lib/python3.11/dist-packages (from ydata_profiling==4.12.1->-r requirements.txt (line 9)) (0.13.2)\n",
            "Requirement already satisfied: multimethod<2,>=1.4 in /usr/local/lib/python3.11/dist-packages (from ydata_profiling==4.12.1->-r requirements.txt (line 9)) (1.12)\n",
            "Requirement already satisfied: typeguard<5,>=3 in /usr/local/lib/python3.11/dist-packages (from ydata_profiling==4.12.1->-r requirements.txt (line 9)) (4.4.2)\n",
            "Requirement already satisfied: imagehash==4.3.1 in /usr/local/lib/python3.11/dist-packages (from ydata_profiling==4.12.1->-r requirements.txt (line 9)) (4.3.1)\n",
            "Requirement already satisfied: wordcloud>=1.9.3 in /usr/local/lib/python3.11/dist-packages (from ydata_profiling==4.12.1->-r requirements.txt (line 9)) (1.9.4)\n",
            "Requirement already satisfied: dacite>=1.8 in /usr/local/lib/python3.11/dist-packages (from ydata_profiling==4.12.1->-r requirements.txt (line 9)) (1.9.2)\n",
            "Requirement already satisfied: numba<1,>=0.56.0 in /usr/local/lib/python3.11/dist-packages (from ydata_profiling==4.12.1->-r requirements.txt (line 9)) (0.61.0)\n",
            "Requirement already satisfied: PyWavelets in /usr/local/lib/python3.11/dist-packages (from imagehash==4.3.1->ydata_profiling==4.12.1->-r requirements.txt (line 9)) (1.8.0)\n",
            "Requirement already satisfied: pycparser in /usr/local/lib/python3.11/dist-packages (from cffi>=1.15.1->rpy2==3.5.17->-r requirements.txt (line 6)) (2.22)\n",
            "Requirement already satisfied: parso<0.9.0,>=0.8.4 in /usr/local/lib/python3.11/dist-packages (from jedi>=0.16->ipython==8.12.3->-r requirements.txt (line 1)) (0.8.4)\n",
            "Requirement already satisfied: MarkupSafe>=2.0 in /usr/local/lib/python3.11/dist-packages (from jinja2->rpy2==3.5.17->-r requirements.txt (line 6)) (3.0.2)\n",
            "Requirement already satisfied: llvmlite<0.45,>=0.44.0dev0 in /usr/local/lib/python3.11/dist-packages (from numba<1,>=0.56.0->ydata_profiling==4.12.1->-r requirements.txt (line 9)) (0.44.0)\n",
            "Requirement already satisfied: ptyprocess>=0.5 in /usr/local/lib/python3.11/dist-packages (from pexpect>4.3->ipython==8.12.3->-r requirements.txt (line 1)) (0.7.0)\n",
            "Requirement already satisfied: joblib>=0.14.1 in /usr/local/lib/python3.11/dist-packages (from phik<0.13,>=0.11.1->ydata_profiling==4.12.1->-r requirements.txt (line 9)) (1.4.2)\n",
            "Requirement already satisfied: wcwidth in /usr/local/lib/python3.11/dist-packages (from prompt-toolkit!=3.0.37,<3.1.0,>=3.0.30->ipython==8.12.3->-r requirements.txt (line 1)) (0.2.13)\n",
            "Requirement already satisfied: annotated-types>=0.6.0 in /usr/local/lib/python3.11/dist-packages (from pydantic>=2->ydata_profiling==4.12.1->-r requirements.txt (line 9)) (0.7.0)\n",
            "Requirement already satisfied: pydantic-core==2.27.2 in /usr/local/lib/python3.11/dist-packages (from pydantic>=2->ydata_profiling==4.12.1->-r requirements.txt (line 9)) (2.27.2)\n",
            "Requirement already satisfied: typing-extensions>=4.12.2 in /usr/local/lib/python3.11/dist-packages (from pydantic>=2->ydata_profiling==4.12.1->-r requirements.txt (line 9)) (4.12.2)\n",
            "Requirement already satisfied: six>=1.5 in /usr/local/lib/python3.11/dist-packages (from python-dateutil>=2.7->matplotlib==3.9.2->-r requirements.txt (line 2)) (1.17.0)\n",
            "Requirement already satisfied: charset-normalizer<4,>=2 in /usr/local/lib/python3.11/dist-packages (from requests<3,>=2.24.0->ydata_profiling==4.12.1->-r requirements.txt (line 9)) (3.4.1)\n",
            "Requirement already satisfied: idna<4,>=2.5 in /usr/local/lib/python3.11/dist-packages (from requests<3,>=2.24.0->ydata_profiling==4.12.1->-r requirements.txt (line 9)) (3.10)\n",
            "Requirement already satisfied: urllib3<3,>=1.21.1 in /usr/local/lib/python3.11/dist-packages (from requests<3,>=2.24.0->ydata_profiling==4.12.1->-r requirements.txt (line 9)) (2.3.0)\n",
            "Requirement already satisfied: certifi>=2017.4.17 in /usr/local/lib/python3.11/dist-packages (from requests<3,>=2.24.0->ydata_profiling==4.12.1->-r requirements.txt (line 9)) (2025.1.31)\n",
            "Requirement already satisfied: attrs>=19.3.0 in /usr/local/lib/python3.11/dist-packages (from visions<0.7.7,>=0.7.5->visions[type_image_path]<0.7.7,>=0.7.5->ydata_profiling==4.12.1->-r requirements.txt (line 9)) (25.1.0)\n",
            "Requirement already satisfied: networkx>=2.4 in /usr/local/lib/python3.11/dist-packages (from visions<0.7.7,>=0.7.5->visions[type_image_path]<0.7.7,>=0.7.5->ydata_profiling==4.12.1->-r requirements.txt (line 9)) (3.4.2)\n",
            "Requirement already satisfied: executing>=1.2.0 in /usr/local/lib/python3.11/dist-packages (from stack-data->ipython==8.12.3->-r requirements.txt (line 1)) (2.2.0)\n",
            "Requirement already satisfied: asttokens>=2.1.0 in /usr/local/lib/python3.11/dist-packages (from stack-data->ipython==8.12.3->-r requirements.txt (line 1)) (3.0.0)\n",
            "Requirement already satisfied: pure-eval in /usr/local/lib/python3.11/dist-packages (from stack-data->ipython==8.12.3->-r requirements.txt (line 1)) (0.2.3)\n"
          ]
        }
      ],
      "source": [
        "%pip install -r requirements.txt"
      ]
    },
    {
      "cell_type": "markdown",
      "source": [
        "Now you can check which Python and pip you are using:"
      ],
      "metadata": {
        "id": "n0CPU2XAciE_"
      }
    },
    {
      "cell_type": "code",
      "source": [
        "!which python\n",
        "!python --version\n",
        "\n",
        "!which pip\n",
        "!pip --version"
      ],
      "metadata": {
        "colab": {
          "base_uri": "https://localhost:8080/"
        },
        "id": "UyBWr0O6cjHn",
        "outputId": "a25746a4-ff8a-4d97-e36f-7bfe885e705d"
      },
      "execution_count": 6,
      "outputs": [
        {
          "output_type": "stream",
          "name": "stdout",
          "text": [
            "/usr/local/bin/python\n",
            "Python 3.11.11\n",
            "/usr/local/bin/pip\n",
            "pip 24.1.2 from /usr/local/lib/python3.11/dist-packages/pip (python 3.11)\n"
          ]
        }
      ]
    },
    {
      "cell_type": "markdown",
      "metadata": {
        "id": "EksKO2IkIF5a"
      },
      "source": [
        "Usually, Colab will discover the correct `R_HOME` automatically once R is installed. But if you run into issues, you can set it explicitly in Python.\n",
        "\n",
        "(This path may vary depending on how R was installed, but for most Debian/Ubuntu-based systems, `/usr/lib/R` is correct.)\n",
        "\n",
        "Let's verify how `R_HOME` is set in the remote system. In IPython, if you want to access a true shell variable, an extra $ is necessary to prevent its expansion by IPython, hence `$$` is used to obtain a system variable.\n",
        "\n",
        "You can check the R_HOME variables in two ways: `!echo $$R_HOME` or `%env R_HOME`\n",
        "\n",
        "If it is not automatically well set, then try running the following to manually set it to `/usr/lib/R`:"
      ]
    },
    {
      "cell_type": "code",
      "source": [
        "import os\n",
        "os.environ['R_HOME'] = '/usr/lib/R'"
      ],
      "metadata": {
        "id": "h9I87SbMjFwy"
      },
      "execution_count": 7,
      "outputs": []
    },
    {
      "cell_type": "code",
      "source": [
        "# Let's check if it has been correctly set\n",
        "!echo $$R_HOME"
      ],
      "metadata": {
        "colab": {
          "base_uri": "https://localhost:8080/"
        },
        "id": "WYIxAPZvhXSg",
        "outputId": "264c5a7d-c0ef-4357-ac8a-019bb360625e"
      },
      "execution_count": 8,
      "outputs": [
        {
          "output_type": "stream",
          "name": "stdout",
          "text": [
            "/usr/lib/R\n"
          ]
        }
      ]
    },
    {
      "cell_type": "code",
      "source": [
        "%%R\n",
        "# Get/set the library trees within which packages are looked for.\n",
        ".libPaths()"
      ],
      "metadata": {
        "colab": {
          "base_uri": "https://localhost:8080/"
        },
        "id": "MxqzFxdoAGOp",
        "outputId": "061e2cc7-99dd-40b2-f3ca-c01223c44a81"
      },
      "execution_count": 9,
      "outputs": [
        {
          "output_type": "stream",
          "name": "stdout",
          "text": [
            "[1] \"/usr/local/lib/R/site-library\" \"/usr/lib/R/site-library\"      \n",
            "[3] \"/usr/lib/R/library\"           \n"
          ]
        }
      ]
    },
    {
      "cell_type": "markdown",
      "source": [
        "We'll install the R packages in \"/usr/lib/R/site-library\""
      ],
      "metadata": {
        "id": "UzjkxhWcBoA0"
      }
    },
    {
      "cell_type": "code",
      "source": [
        "import rpy2.robjects as robjects\n",
        "import rpy2.robjects.packages as rpackages\n",
        "from rpy2.robjects.vectors import StrVector\n",
        "from rpy2.robjects.conversion import localconverter"
      ],
      "metadata": {
        "id": "Ji9PqOU-mniV"
      },
      "execution_count": 10,
      "outputs": []
    },
    {
      "cell_type": "markdown",
      "source": [
        "Install the dependencies needed in a colab environment to install the necessary R packages"
      ],
      "metadata": {
        "id": "dMjyYgz5aiR8"
      }
    },
    {
      "cell_type": "code",
      "source": [
        "!apt-get update\n",
        "!apt-get install -y \\\n",
        "    libcurl4-openssl-dev \\\n",
        "    libssl-dev \\\n",
        "    libxml2-dev \\\n",
        "    libfontconfig1-dev \\\n",
        "    libfreetype6-dev \\\n",
        "    libharfbuzz-dev \\\n",
        "    libfribidi-dev \\\n",
        "    g++"
      ],
      "metadata": {
        "colab": {
          "base_uri": "https://localhost:8080/"
        },
        "id": "rZXML3fcaoFJ",
        "outputId": "be2fa0eb-5ca9-4531-f913-6a48229fc336"
      },
      "execution_count": 11,
      "outputs": [
        {
          "output_type": "stream",
          "name": "stdout",
          "text": [
            "Hit:1 https://developer.download.nvidia.com/compute/cuda/repos/ubuntu2204/x86_64  InRelease\n",
            "Get:2 https://r2u.stat.illinois.edu/ubuntu jammy InRelease [6,555 B]\n",
            "Hit:3 http://security.ubuntu.com/ubuntu jammy-security InRelease\n",
            "Hit:4 http://archive.ubuntu.com/ubuntu jammy InRelease\n",
            "Hit:5 https://cloud.r-project.org/bin/linux/ubuntu jammy-cran40/ InRelease\n",
            "Hit:6 http://archive.ubuntu.com/ubuntu jammy-updates InRelease\n",
            "Hit:7 http://archive.ubuntu.com/ubuntu jammy-backports InRelease\n",
            "Hit:8 https://ppa.launchpadcontent.net/deadsnakes/ppa/ubuntu jammy InRelease\n",
            "Hit:9 https://ppa.launchpadcontent.net/graphics-drivers/ppa/ubuntu jammy InRelease\n",
            "Hit:10 https://ppa.launchpadcontent.net/ubuntugis/ppa/ubuntu jammy InRelease\n",
            "Fetched 6,555 B in 2s (3,532 B/s)\n",
            "Reading package lists... Done\n",
            "W: Skipping acquire of configured file 'main/source/Sources' as repository 'https://r2u.stat.illinois.edu/ubuntu jammy InRelease' does not seem to provide it (sources.list entry misspelt?)\n",
            "Reading package lists... Done\n",
            "Building dependency tree... Done\n",
            "Reading state information... Done\n",
            "g++ is already the newest version (4:11.2.0-1ubuntu1).\n",
            "libfontconfig1-dev is already the newest version (2.13.1-4.2ubuntu5).\n",
            "libcurl4-openssl-dev is already the newest version (7.81.0-1ubuntu1.20).\n",
            "libfreetype6-dev is already the newest version (2.11.1+dfsg-1ubuntu0.2).\n",
            "libfribidi-dev is already the newest version (1.0.8-2ubuntu3.1).\n",
            "libharfbuzz-dev is already the newest version (2.7.4-1ubuntu3.2).\n",
            "libssl-dev is already the newest version (3.0.2-0ubuntu1.19).\n",
            "libxml2-dev is already the newest version (2.9.13+dfsg-1ubuntu0.6).\n",
            "0 upgraded, 0 newly installed, 0 to remove and 32 not upgraded.\n"
          ]
        }
      ]
    },
    {
      "cell_type": "markdown",
      "source": [
        "The following step can take some minutes to complete (R packages installation)\n",
        "I suggest to run it with \"verbose=TRUE\" to debug in case of errors."
      ],
      "metadata": {
        "id": "jwulMC0_Y2ZS"
      }
    },
    {
      "cell_type": "code",
      "source": [
        "%%R\n",
        "install.packages(c('future', 'furrr', 'broom.mixed', 'gglm', 'performance'),\n",
        "  repos=\"http://cran.r-project.org\",\n",
        "  type=\"source\",\n",
        "  verbose=TRUE,\n",
        "  INSTALL_opts=c(\"--no-lock\", \"--no-build-vignettes\")\n",
        ")"
      ],
      "metadata": {
        "colab": {
          "base_uri": "https://localhost:8080/",
          "height": 900
        },
        "id": "cwABBnGxd--1",
        "outputId": "65f8fb16-1352-412b-ca20-cdbfe4a1abd0"
      },
      "execution_count": 12,
      "outputs": [
        {
          "output_type": "display_data",
          "data": {
            "text/plain": [
              "Installing packages into ‘/usr/local/lib/R/site-library’\n",
              "(as ‘lib’ is unspecified)\n",
              "system (cmd0): /usr/lib/R/bin/R CMD INSTALL --no-lock --no-build-vignettes\n",
              "trying URL 'http://cran.r-project.org/src/contrib/future_1.34.0.tar.gz'\n",
              "Content type 'application/x-gzip' length 359503 bytes (351 KB)\n",
              "==================================================\n",
              "downloaded 351 KB\n",
              "\n",
              "trying URL 'http://cran.r-project.org/src/contrib/furrr_0.3.1.tar.gz'\n",
              "Content type 'application/x-gzip' length 907668 bytes (886 KB)\n",
              "==================================================\n",
              "downloaded 886 KB\n",
              "\n",
              "trying URL 'http://cran.r-project.org/src/contrib/broom.mixed_0.2.9.6.tar.gz'\n",
              "Content type 'application/x-gzip' length 5147791 bytes (4.9 MB)\n",
              "==================================================\n",
              "downloaded 4.9 MB\n",
              "\n",
              "trying URL 'http://cran.r-project.org/src/contrib/gglm_1.0.3.tar.gz'\n",
              "Content type 'application/x-gzip' length 140821 bytes (137 KB)\n",
              "==================================================\n",
              "downloaded 137 KB\n",
              "\n",
              "trying URL 'http://cran.r-project.org/src/contrib/performance_0.13.0.tar.gz'\n",
              "Content type 'application/x-gzip' length 2165084 bytes (2.1 MB)\n",
              "==================================================\n",
              "downloaded 2.1 MB\n",
              "\n",
              "foundpkgs: future, furrr, broom.mixed, gglm, performance, /tmp/RtmpwnCBEa/downloaded_packages/future_1.34.0.tar.gz, /tmp/RtmpwnCBEa/downloaded_packages/furrr_0.3.1.tar.gz, /tmp/RtmpwnCBEa/downloaded_packages/broom.mixed_0.2.9.6.tar.gz, /tmp/RtmpwnCBEa/downloaded_packages/gglm_1.0.3.tar.gz, /tmp/RtmpwnCBEa/downloaded_packages/performance_0.13.0.tar.gz\n",
              "files: /tmp/RtmpwnCBEa/downloaded_packages/future_1.34.0.tar.gz, \n",
              "\t/tmp/RtmpwnCBEa/downloaded_packages/furrr_0.3.1.tar.gz, \n",
              "\t/tmp/RtmpwnCBEa/downloaded_packages/broom.mixed_0.2.9.6.tar.gz, \n",
              "\t/tmp/RtmpwnCBEa/downloaded_packages/gglm_1.0.3.tar.gz, \n",
              "\t/tmp/RtmpwnCBEa/downloaded_packages/performance_0.13.0.tar.gz\n",
              "1): succeeded '/usr/lib/R/bin/R CMD INSTALL --no-lock --no-build-vignettes -l '/usr/local/lib/R/site-library' '/tmp/RtmpwnCBEa/downloaded_packages/future_1.34.0.tar.gz''\n",
              "2): succeeded '/usr/lib/R/bin/R CMD INSTALL --no-lock --no-build-vignettes -l '/usr/local/lib/R/site-library' '/tmp/RtmpwnCBEa/downloaded_packages/performance_0.13.0.tar.gz''\n",
              "3): succeeded '/usr/lib/R/bin/R CMD INSTALL --no-lock --no-build-vignettes -l '/usr/local/lib/R/site-library' '/tmp/RtmpwnCBEa/downloaded_packages/furrr_0.3.1.tar.gz''\n",
              "4): succeeded '/usr/lib/R/bin/R CMD INSTALL --no-lock --no-build-vignettes -l '/usr/local/lib/R/site-library' '/tmp/RtmpwnCBEa/downloaded_packages/broom.mixed_0.2.9.6.tar.gz''\n",
              "5): succeeded '/usr/lib/R/bin/R CMD INSTALL --no-lock --no-build-vignettes -l '/usr/local/lib/R/site-library' '/tmp/RtmpwnCBEa/downloaded_packages/gglm_1.0.3.tar.gz''\n",
              "\n",
              "The downloaded source packages are in\n",
              "\t‘/tmp/RtmpwnCBEa/downloaded_packages’\n"
            ]
          },
          "metadata": {}
        }
      ]
    },
    {
      "cell_type": "code",
      "source": [
        "%%R\n",
        "# You can install with verbose output using the optional argument \"verbose=TRUE\"\n",
        "# to assess potential problems\n",
        "install.packages(c('lme4', 'lmerTest', 'emmeans', 'geepack',\n",
        "                   'performance', 'ggplot2','gglm', 'gridExtra'),\n",
        "                 lib=\"/usr/lib/R/site-library\", repos=\"http://cran.r-project.org\",\n",
        "                 verbose=TRUE)"
      ],
      "metadata": {
        "id": "knLwkUrrY1F0"
      },
      "execution_count": null,
      "outputs": []
    },
    {
      "cell_type": "markdown",
      "metadata": {
        "id": "wTTth6UwQE_5"
      },
      "source": [
        "_(Or from Python, you can import `rpy2.robjects.packages.importr('utils')` and do `utils.install_packages(...)`—whichever workflow you prefer.)_"
      ]
    },
    {
      "cell_type": "markdown",
      "metadata": {
        "id": "ngHZyJR1ylKO"
      },
      "source": [
        "# Setup completed\n",
        "Now you can use the actual notebook/code, the `psy-data-tool.ipynb` file content.\n",
        "\n",
        "To load files in the colab environment you can use different methods. We'll keep things simple here and upload it with the 'drag and drop' method.\n",
        "\n",
        "Simply drag your files (e.g., data.csv or any executable/data file) into the file browser pane to load it in the colab runtime session environment."
      ]
    },
    {
      "cell_type": "code",
      "source": [
        "import os\n",
        "\n",
        "print(os.getcwd())"
      ],
      "metadata": {
        "id": "WSUM-c0pscTR"
      },
      "execution_count": null,
      "outputs": []
    },
    {
      "cell_type": "code",
      "execution_count": null,
      "metadata": {
        "id": "Zv8Q5QefzFes"
      },
      "outputs": [],
      "source": [
        "import pandas as pd\n",
        "\n",
        "# Load your data (usually it is stored in './content/ in the colab environment).\n",
        "df=pd.read_csv(\"../world-happiness-report-2021.csv\")\n",
        "\n",
        "# 5. Standardize column names (to lower cased snake_case)\n",
        "df.columns = df.columns.str.replace('%', '').str.replace('(', '').str.replace(')', '').str.strip().str.lower().str.replace(' ', '_')\n",
        "df"
      ]
    },
    {
      "cell_type": "code",
      "execution_count": null,
      "metadata": {
        "id": "aWNIIZP98mfM"
      },
      "outputs": [],
      "source": [
        "# Let's look at the data types\n",
        "df.dtypes"
      ]
    },
    {
      "cell_type": "markdown",
      "metadata": {
        "id": "Qeku2udi70TB"
      },
      "source": [
        "Now that you have seen the dataframe, let the `xplore_data`\n",
        "function do all the hard work:"
      ]
    },
    {
      "cell_type": "code",
      "execution_count": null,
      "metadata": {
        "id": "aoC1DYaw8EY_"
      },
      "outputs": [],
      "source": [
        "from re import DEBUG\n",
        "from xplore_data import xplore_data\n",
        "\n",
        "# Selected vars must be written in snake_case (for example if var in original\n",
        "# dataframe is 'Weighted Frequency', you have to use the argument 'weighted_frequency')\n",
        "\n",
        "# If our sample includes, with respect to a categorical variable, relative values\n",
        "# to all possible observable levels in the population, if we were to\n",
        "# fit it into the model, it would be a fixed effect.\n",
        "# If the identification codes we have in our dataset are only a sample of\n",
        "# those of the entire population, it* should be entered into the model as a random effect.\n",
        "# In automatic models generation this is not possible a priori, but we can check the\n",
        "# models that are chosen at the end of the program.\n",
        "\n",
        "# In Colab, models will be stored in \"/content/psy-data-tool/models.json\"\n",
        "\n",
        "response_var, predictor_vars, best_models, df_r = xplore_data(df, response_var=\"ladder_score\", predictor_vars=[\"freedom_to_make_life_choices\", \"healthy_life_expectancy\", \"regional_indicator\"], print_r_warnings=True)"
      ]
    }
  ],
  "metadata": {
    "colab": {
      "provenance": []
    },
    "kernelspec": {
      "display_name": "Python 3",
      "name": "python3"
    },
    "language_info": {
      "name": "python"
    }
  },
  "nbformat": 4,
  "nbformat_minor": 0
}