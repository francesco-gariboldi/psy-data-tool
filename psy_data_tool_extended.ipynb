{
 "cells": [
  {
   "cell_type": "code",
   "execution_count": 1,
   "id": "fbbafed0-856f-49cf-99c7-74892e1c6c59",
   "metadata": {},
   "outputs": [],
   "source": [
    "# Actually you didn't remove bambi and arviz and formulae because you installed them from\n",
    "# jupyter directly with magic % => solve this problem (if they get imported they are still installed)\n",
    "# import arviz as az\n",
    "# import bambi as bmb\n",
    "# import formulae\n",
    "# from formulaic import formula"
   ]
  },
  {
   "cell_type": "code",
   "execution_count": 2,
   "id": "99206dde-e350-47a8-89e4-307e1e177952",
   "metadata": {},
   "outputs": [],
   "source": [
    "# A script to automate models generation, models performances\n",
    "# and graphical representations for psychological research. It\n",
    "# generates a JSON report and takes data from it for an\n",
    "# intelligent categorization of the database variablels."
   ]
  },
  {
   "cell_type": "code",
   "execution_count": 3,
   "id": "fee9e268-0b3c-48fb-bfa7-bf46ce4f25a2",
   "metadata": {},
   "outputs": [],
   "source": [
    "# You must have R installed sistem-wide at '/usr/lib/R', the default\n",
    "# installation folder in Linux operating systems. Otherwise modify\n",
    "# the path of the R_HOME environment variable.\n",
    "# It is recommended to install R from terminal because doing it from jupyter\n",
    "# may cause problems for password typing and admin permissions when\n",
    "# installation commands are run.\n",
    "# It is recommended to install all python packages in a virtual environment.\n",
    "# If you're using a python venv to install packages, install them with\n",
    "# pip with the -m option. This with install the packages in the\n",
    "# virtual environment.\n",
    "# To install them from Jupyter Notebook run \"!python3 -m pip install rpy2\"\n",
    "# in a cell.\n",
    "\n",
    "# Install pillow from Jupyter cell with \"%pip install pillow\"\n",
    "# Install ipympl from Jupyter cell with \"%pip install ipympl\"\n",
    "\n",
    "# Install LMER packages (THIS TAKES ABOUT 3~5 minutes)\n",
    "\n",
    "# # Enable the rpy2 interface, which allows for the seamless integration\n",
    "# # of R within a Python environment.\n",
    "\n",
    "# %load_ext rpy2.ipython\n",
    "# import rpy2\n",
    "# packnames = ('lme4', 'lmerTest', 'emmeans', 'geepack', 'performance', 'graphics', 'ggplot2', 'gglm')\n",
    "# utils = rpy2.robjects.packages.importr(\"utils\")\n",
    "# utils.chooseCRANmirror(ind=1)\n",
    "# utils.install_packages(rpy2.robjects.vectors.StrVector(packnames))"
   ]
  },
  {
   "cell_type": "code",
   "execution_count": 4,
   "id": "9df66573-f0a0-4347-b555-a55f0953120b",
   "metadata": {},
   "outputs": [],
   "source": [
    "# Importing Python packages\n",
    "import os\n",
    "import rpy2\n",
    "import pandas as pd\n",
    "from IPython.display import display, Image\n",
    "\n",
    "# Set env variable R_HOME through python. Change the path according to your platform/OS\n",
    "# and your filesystem.\n",
    "os.environ['R_HOME'] = '/usr/lib/R'\n",
    "\n",
    "# Enable cell magic for rpy2 interface.\n",
    "# %R and %%R are the line and cell magics, respectively.\n",
    "%load_ext rpy2.ipython\n",
    "\n",
    "# Loading R packages\n",
    "graphics = rpy2.robjects.packages.importr('graphics') # Equivalent to \"library(graphics)\"\n",
    "lme4 = rpy2.robjects.packages.importr('lme4')\n",
    "lmerTest = rpy2.robjects.packages.importr('lmerTest')\n",
    "performance = rpy2.robjects.packages.importr('performance')\n",
    "graphics = rpy2.robjects.packages.importr('graphics')\n",
    "ggplot2 = rpy2.robjects.packages.importr('ggplot2')\n",
    "gglm = rpy2.robjects.packages.importr('gglm')\n",
    "gridExtra = rpy2.robjects.packages.importr('gridExtra')\n",
    "\n",
    "# Importing my modules\n",
    "from data_cleaner import clean_dataframe\n",
    "import ydata_profiling_generator\n",
    "from vars_conversion import load_yprofiling_report, build_dtypes_dict, convert_datatypes, represent_dtype_changelog\n",
    "from print_models_amount import models_amount_msg\n",
    "import models_generator\n",
    "import models_features\n",
    "import models_comparison\n",
    "import r_warnings\n",
    "import r_graphics"
   ]
  },
  {
   "cell_type": "code",
   "execution_count": 5,
   "id": "aaa050d0-13e7-4852-846d-7124864274ee",
   "metadata": {
    "scrolled": true
   },
   "outputs": [],
   "source": [
    "# Load database and build pandas DataFrame\n",
    "df = pd.read_csv(\"../../../../data/data_gov_USA/adult-depression-lghc-indicator-24.csv\")"
   ]
  },
  {
   "cell_type": "code",
   "execution_count": 6,
   "id": "a88a6cd6-9344-4c3c-ac17-d09c0f60f4eb",
   "metadata": {},
   "outputs": [
    {
     "data": {
      "text/html": [
       "<div>\n",
       "<style scoped>\n",
       "    .dataframe tbody tr th:only-of-type {\n",
       "        vertical-align: middle;\n",
       "    }\n",
       "\n",
       "    .dataframe tbody tr th {\n",
       "        vertical-align: top;\n",
       "    }\n",
       "\n",
       "    .dataframe thead th {\n",
       "        text-align: right;\n",
       "    }\n",
       "</style>\n",
       "<table border=\"1\" class=\"dataframe\">\n",
       "  <thead>\n",
       "    <tr style=\"text-align: right;\">\n",
       "      <th></th>\n",
       "      <th>Year</th>\n",
       "      <th>Strata</th>\n",
       "      <th>Strata Name</th>\n",
       "      <th>Frequency</th>\n",
       "      <th>Weighted Frequency</th>\n",
       "      <th>Percent</th>\n",
       "      <th>Lower 95% CL</th>\n",
       "      <th>Upper 95% CL</th>\n",
       "    </tr>\n",
       "  </thead>\n",
       "  <tbody>\n",
       "    <tr>\n",
       "      <th>0</th>\n",
       "      <td>2012</td>\n",
       "      <td>Total</td>\n",
       "      <td>Total</td>\n",
       "      <td>1920</td>\n",
       "      <td>NaN</td>\n",
       "      <td>11.74</td>\n",
       "      <td>11.11</td>\n",
       "      <td>12.37</td>\n",
       "    </tr>\n",
       "    <tr>\n",
       "      <th>1</th>\n",
       "      <td>2012</td>\n",
       "      <td>Sex</td>\n",
       "      <td>Male</td>\n",
       "      <td>561</td>\n",
       "      <td>1116664.0</td>\n",
       "      <td>8.12</td>\n",
       "      <td>7.32</td>\n",
       "      <td>8.92</td>\n",
       "    </tr>\n",
       "    <tr>\n",
       "      <th>2</th>\n",
       "      <td>2012</td>\n",
       "      <td>Sex</td>\n",
       "      <td>Female</td>\n",
       "      <td>1359</td>\n",
       "      <td>2163108.0</td>\n",
       "      <td>15.25</td>\n",
       "      <td>14.30</td>\n",
       "      <td>16.20</td>\n",
       "    </tr>\n",
       "    <tr>\n",
       "      <th>3</th>\n",
       "      <td>2012</td>\n",
       "      <td>Race-Ethnicity</td>\n",
       "      <td>White</td>\n",
       "      <td>1314</td>\n",
       "      <td>1806371.0</td>\n",
       "      <td>14.57</td>\n",
       "      <td>13.67</td>\n",
       "      <td>15.46</td>\n",
       "    </tr>\n",
       "    <tr>\n",
       "      <th>4</th>\n",
       "      <td>2012</td>\n",
       "      <td>Race-Ethnicity</td>\n",
       "      <td>Black</td>\n",
       "      <td>97</td>\n",
       "      <td>222022.0</td>\n",
       "      <td>13.54</td>\n",
       "      <td>10.44</td>\n",
       "      <td>16.65</td>\n",
       "    </tr>\n",
       "    <tr>\n",
       "      <th>...</th>\n",
       "      <td>...</td>\n",
       "      <td>...</td>\n",
       "      <td>...</td>\n",
       "      <td>...</td>\n",
       "      <td>...</td>\n",
       "      <td>...</td>\n",
       "      <td>...</td>\n",
       "      <td>...</td>\n",
       "    </tr>\n",
       "    <tr>\n",
       "      <th>156</th>\n",
       "      <td>2018</td>\n",
       "      <td>Age</td>\n",
       "      <td>18 to 34</td>\n",
       "      <td>496</td>\n",
       "      <td>1623933.0</td>\n",
       "      <td>17.69</td>\n",
       "      <td>13.72</td>\n",
       "      <td>21.66</td>\n",
       "    </tr>\n",
       "    <tr>\n",
       "      <th>157</th>\n",
       "      <td>2018</td>\n",
       "      <td>Age</td>\n",
       "      <td>35 to 44</td>\n",
       "      <td>285</td>\n",
       "      <td>749615.0</td>\n",
       "      <td>14.56</td>\n",
       "      <td>10.91</td>\n",
       "      <td>18.21</td>\n",
       "    </tr>\n",
       "    <tr>\n",
       "      <th>158</th>\n",
       "      <td>2018</td>\n",
       "      <td>Age</td>\n",
       "      <td>45 to 54</td>\n",
       "      <td>301</td>\n",
       "      <td>1052945.0</td>\n",
       "      <td>20.06</td>\n",
       "      <td>15.60</td>\n",
       "      <td>24.52</td>\n",
       "    </tr>\n",
       "    <tr>\n",
       "      <th>159</th>\n",
       "      <td>2018</td>\n",
       "      <td>Age</td>\n",
       "      <td>55 to 64</td>\n",
       "      <td>432</td>\n",
       "      <td>854201.0</td>\n",
       "      <td>21.44</td>\n",
       "      <td>17.65</td>\n",
       "      <td>25.23</td>\n",
       "    </tr>\n",
       "    <tr>\n",
       "      <th>160</th>\n",
       "      <td>2018</td>\n",
       "      <td>Age</td>\n",
       "      <td>65+ years</td>\n",
       "      <td>450</td>\n",
       "      <td>661974.0</td>\n",
       "      <td>15.60</td>\n",
       "      <td>13.42</td>\n",
       "      <td>17.78</td>\n",
       "    </tr>\n",
       "  </tbody>\n",
       "</table>\n",
       "<p>161 rows × 8 columns</p>\n",
       "</div>"
      ],
      "text/plain": [
       "     Year          Strata Strata Name  Frequency  Weighted Frequency  Percent  \\\n",
       "0    2012           Total       Total       1920                 NaN    11.74   \n",
       "1    2012             Sex        Male        561           1116664.0     8.12   \n",
       "2    2012             Sex      Female       1359           2163108.0    15.25   \n",
       "3    2012  Race-Ethnicity       White       1314           1806371.0    14.57   \n",
       "4    2012  Race-Ethnicity       Black         97            222022.0    13.54   \n",
       "..    ...             ...         ...        ...                 ...      ...   \n",
       "156  2018             Age    18 to 34        496           1623933.0    17.69   \n",
       "157  2018             Age    35 to 44        285            749615.0    14.56   \n",
       "158  2018             Age    45 to 54        301           1052945.0    20.06   \n",
       "159  2018             Age    55 to 64        432            854201.0    21.44   \n",
       "160  2018             Age   65+ years        450            661974.0    15.60   \n",
       "\n",
       "     Lower 95% CL  Upper 95% CL  \n",
       "0           11.11         12.37  \n",
       "1            7.32          8.92  \n",
       "2           14.30         16.20  \n",
       "3           13.67         15.46  \n",
       "4           10.44         16.65  \n",
       "..            ...           ...  \n",
       "156         13.72         21.66  \n",
       "157         10.91         18.21  \n",
       "158         15.60         24.52  \n",
       "159         17.65         25.23  \n",
       "160         13.42         17.78  \n",
       "\n",
       "[161 rows x 8 columns]"
      ]
     },
     "execution_count": 6,
     "metadata": {},
     "output_type": "execute_result"
    }
   ],
   "source": [
    "df"
   ]
  },
  {
   "cell_type": "code",
   "execution_count": 7,
   "id": "4c5287c5-c574-4655-94ca-bdb4f76e0889",
   "metadata": {},
   "outputs": [
    {
     "data": {
      "text/plain": [
       "Year                    int64\n",
       "Strata                 object\n",
       "Strata Name            object\n",
       "Frequency               int64\n",
       "Weighted Frequency    float64\n",
       "Percent               float64\n",
       "Lower 95% CL          float64\n",
       "Upper 95% CL          float64\n",
       "dtype: object"
      ]
     },
     "execution_count": 7,
     "metadata": {},
     "output_type": "execute_result"
    }
   ],
   "source": [
    "# Variable dtypes before pre-processing or reporting\n",
    "df.dtypes"
   ]
  },
  {
   "cell_type": "code",
   "execution_count": 8,
   "id": "727ee9bd-3fe1-4142-8e52-a2b462f3a1a3",
   "metadata": {},
   "outputs": [
    {
     "data": {
      "application/vnd.jupyter.widget-view+json": {
       "model_id": "d186e84c5a6647e3817600c394567695",
       "version_major": 2,
       "version_minor": 0
      },
      "text/plain": [
       "Summarize dataset:   0%|          | 0/5 [00:00<?, ?it/s]"
      ]
     },
     "metadata": {},
     "output_type": "display_data"
    },
    {
     "name": "stderr",
     "output_type": "stream",
     "text": [
      "/home/franaz/coding/python/.venv/lib/python3.10/site-packages/ydata_profiling/model/correlations.py:66: UserWarning: There was an attempt to calculate the auto correlation, but this failed.\n",
      "To hide this warning, disable the calculation\n",
      "(using `df.profile_report(correlations={\"auto\": {\"calculate\": False}})`\n",
      "If this is problematic for your use case, please report this as an issue:\n",
      "https://github.com/ydataai/ydata-profiling/issues\n",
      "(include the error message: 'could not convert string to float: 'Total'')\n",
      "  warnings.warn(\n"
     ]
    },
    {
     "data": {
      "application/vnd.jupyter.widget-view+json": {
       "model_id": "86935ed34d8d4524b7ba0bea3b98c2a9",
       "version_major": 2,
       "version_minor": 0
      },
      "text/plain": [
       "Generate report structure:   0%|          | 0/1 [00:00<?, ?it/s]"
      ]
     },
     "metadata": {},
     "output_type": "display_data"
    },
    {
     "data": {
      "application/vnd.jupyter.widget-view+json": {
       "model_id": "1ba83b66e0214aa89644958f7084c1a0",
       "version_major": 2,
       "version_minor": 0
      },
      "text/plain": [
       "Render HTML:   0%|          | 0/1 [00:00<?, ?it/s]"
      ]
     },
     "metadata": {},
     "output_type": "display_data"
    },
    {
     "data": {
      "application/vnd.jupyter.widget-view+json": {
       "model_id": "54414d81994149fc8fffa66a6e6f940f",
       "version_major": 2,
       "version_minor": 0
      },
      "text/plain": [
       "Export report to file:   0%|          | 0/1 [00:00<?, ?it/s]"
      ]
     },
     "metadata": {},
     "output_type": "display_data"
    },
    {
     "data": {
      "application/vnd.jupyter.widget-view+json": {
       "model_id": "f00b34abf5554ad69c74bfdca3403bed",
       "version_major": 2,
       "version_minor": 0
      },
      "text/plain": [
       "Render JSON:   0%|          | 0/1 [00:00<?, ?it/s]"
      ]
     },
     "metadata": {},
     "output_type": "display_data"
    },
    {
     "data": {
      "application/vnd.jupyter.widget-view+json": {
       "model_id": "f9295e8c9d8c4cea9aba69f240475c5e",
       "version_major": 2,
       "version_minor": 0
      },
      "text/plain": [
       "Export report to file:   0%|          | 0/1 [00:00<?, ?it/s]"
      ]
     },
     "metadata": {},
     "output_type": "display_data"
    }
   ],
   "source": [
    "# Generate ydata-profiling report and store it in same\n",
    "# folder where this script is stored.\n",
    "ydata_profiling_generator.generate_profiling_report(df)"
   ]
  },
  {
   "cell_type": "code",
   "execution_count": 9,
   "id": "ceded023-fa9e-473e-84fb-4f9b736f1021",
   "metadata": {},
   "outputs": [
    {
     "name": "stdout",
     "output_type": "stream",
     "text": [
      "\n",
      "-----------------------\n",
      "Original df shape: (161, 8)\n",
      "Cleaned df shape: (161, 8)\n",
      "-----------------------\n",
      "\n"
     ]
    }
   ],
   "source": [
    "# Clean the dataframe and print shape difference\n",
    "df = clean_dataframe(df)\n",
    "\n",
    "# Please note:\n",
    "# For semplicity and function reuse I've decided to keep\n",
    "# df and not cleaned_df. After this point we will then keep\n",
    "# df, but it is actually the cleaned df instead of the original one."
   ]
  },
  {
   "cell_type": "code",
   "execution_count": 10,
   "id": "ffa78421-8b51-4991-9960-905c8385b6d2",
   "metadata": {},
   "outputs": [],
   "source": [
    "# Generates the ydata-profiling report in the same\n",
    "# folder of this script and loads it in this\n",
    "# environment, allowing ops with the JSON reported data.\n",
    "# It intelligrently gives his data types to\n",
    "# the variables in the dataframe, which will\n",
    "# be useful for vars conversion later.\n",
    "data_profile = load_yprofiling_report()"
   ]
  },
  {
   "cell_type": "code",
   "execution_count": 11,
   "id": "e12bf4cd-40e6-47c7-9ae7-52344e700f4b",
   "metadata": {},
   "outputs": [],
   "source": [
    "# n.b.! Theese dtypes are not the same used by pandas, so we must match\n",
    "# them before converting the vars of a pandas dataframe.\n",
    "report_dtypes = build_dtypes_dict(data_profile)"
   ]
  },
  {
   "cell_type": "code",
   "execution_count": 12,
   "id": "ff0b1d2d-9fe3-4dbf-8781-1863032dbafb",
   "metadata": {},
   "outputs": [],
   "source": [
    "# Create an object that contains the original dtypes\n",
    "original_dtypes = df.dtypes"
   ]
  },
  {
   "cell_type": "code",
   "execution_count": 13,
   "id": "9791e637-ddc0-4c15-b998-d40d025c6d8e",
   "metadata": {},
   "outputs": [
    {
     "data": {
      "text/plain": [
       "{'Year': 'Numeric',\n",
       " 'Strata': 'Categorical',\n",
       " 'Strata Name': 'Categorical',\n",
       " 'Frequency': 'Numeric',\n",
       " 'Weighted Frequency': 'Numeric',\n",
       " 'Percent': 'Numeric',\n",
       " 'Lower 95% CL': 'Numeric',\n",
       " 'Upper 95% CL': 'Numeric'}"
      ]
     },
     "execution_count": 13,
     "metadata": {},
     "output_type": "execute_result"
    }
   ],
   "source": [
    "# Variable dtypes according to ydata-profiling inferences\n",
    "report_dtypes"
   ]
  },
  {
   "cell_type": "code",
   "execution_count": 14,
   "id": "f54ffba8-0783-402f-be9c-46ab44e3a88e",
   "metadata": {},
   "outputs": [],
   "source": [
    "# Convert the DataFrame dtypes\n",
    "# \"Not found\" columns should be the ones that have been deleted\n",
    "# after cleaning\n",
    "df = convert_datatypes(df, report_dtypes)"
   ]
  },
  {
   "cell_type": "code",
   "execution_count": 15,
   "id": "b60ab4db-f172-4f5a-a4e2-19621c794f4a",
   "metadata": {},
   "outputs": [
    {
     "name": "stdout",
     "output_type": "stream",
     "text": [
      "-----------------------\n",
      "Variable conversion log\n",
      "-----------------------\n",
      "\n",
      "year: int64 --> float64\n",
      "strata: object --> category\n",
      "strata_name: object --> category\n",
      "frequency: int64 --> float64\n"
     ]
    }
   ],
   "source": [
    "represent_dtype_changelog(df, original_dtypes)"
   ]
  },
  {
   "cell_type": "code",
   "execution_count": 16,
   "id": "a1dda4fd-920f-4886-bd5b-a65b3779049d",
   "metadata": {},
   "outputs": [
    {
     "data": {
      "text/html": [
       "<div>\n",
       "<style scoped>\n",
       "    .dataframe tbody tr th:only-of-type {\n",
       "        vertical-align: middle;\n",
       "    }\n",
       "\n",
       "    .dataframe tbody tr th {\n",
       "        vertical-align: top;\n",
       "    }\n",
       "\n",
       "    .dataframe thead th {\n",
       "        text-align: right;\n",
       "    }\n",
       "</style>\n",
       "<table border=\"1\" class=\"dataframe\">\n",
       "  <thead>\n",
       "    <tr style=\"text-align: right;\">\n",
       "      <th></th>\n",
       "      <th>year</th>\n",
       "      <th>strata</th>\n",
       "      <th>strata_name</th>\n",
       "      <th>frequency</th>\n",
       "      <th>weighted_frequency</th>\n",
       "      <th>percent</th>\n",
       "      <th>lower_95%_cl</th>\n",
       "      <th>upper_95%_cl</th>\n",
       "    </tr>\n",
       "  </thead>\n",
       "  <tbody>\n",
       "    <tr>\n",
       "      <th>0</th>\n",
       "      <td>2012.0</td>\n",
       "      <td>Total</td>\n",
       "      <td>Total</td>\n",
       "      <td>1920.0</td>\n",
       "      <td>2015.0</td>\n",
       "      <td>11.74</td>\n",
       "      <td>11.11</td>\n",
       "      <td>12.37</td>\n",
       "    </tr>\n",
       "    <tr>\n",
       "      <th>1</th>\n",
       "      <td>2012.0</td>\n",
       "      <td>Sex</td>\n",
       "      <td>Male</td>\n",
       "      <td>561.0</td>\n",
       "      <td>1116664.0</td>\n",
       "      <td>8.12</td>\n",
       "      <td>7.32</td>\n",
       "      <td>8.92</td>\n",
       "    </tr>\n",
       "    <tr>\n",
       "      <th>2</th>\n",
       "      <td>2012.0</td>\n",
       "      <td>Sex</td>\n",
       "      <td>Female</td>\n",
       "      <td>1359.0</td>\n",
       "      <td>2163108.0</td>\n",
       "      <td>15.25</td>\n",
       "      <td>14.30</td>\n",
       "      <td>16.20</td>\n",
       "    </tr>\n",
       "    <tr>\n",
       "      <th>3</th>\n",
       "      <td>2012.0</td>\n",
       "      <td>Race-Ethnicity</td>\n",
       "      <td>White</td>\n",
       "      <td>1314.0</td>\n",
       "      <td>1806371.0</td>\n",
       "      <td>14.57</td>\n",
       "      <td>13.67</td>\n",
       "      <td>15.46</td>\n",
       "    </tr>\n",
       "    <tr>\n",
       "      <th>4</th>\n",
       "      <td>2012.0</td>\n",
       "      <td>Race-Ethnicity</td>\n",
       "      <td>Black</td>\n",
       "      <td>97.0</td>\n",
       "      <td>222022.0</td>\n",
       "      <td>13.54</td>\n",
       "      <td>10.44</td>\n",
       "      <td>16.65</td>\n",
       "    </tr>\n",
       "    <tr>\n",
       "      <th>...</th>\n",
       "      <td>...</td>\n",
       "      <td>...</td>\n",
       "      <td>...</td>\n",
       "      <td>...</td>\n",
       "      <td>...</td>\n",
       "      <td>...</td>\n",
       "      <td>...</td>\n",
       "      <td>...</td>\n",
       "    </tr>\n",
       "    <tr>\n",
       "      <th>156</th>\n",
       "      <td>2018.0</td>\n",
       "      <td>Age</td>\n",
       "      <td>18 to 34</td>\n",
       "      <td>496.0</td>\n",
       "      <td>1623933.0</td>\n",
       "      <td>17.69</td>\n",
       "      <td>13.72</td>\n",
       "      <td>21.66</td>\n",
       "    </tr>\n",
       "    <tr>\n",
       "      <th>157</th>\n",
       "      <td>2018.0</td>\n",
       "      <td>Age</td>\n",
       "      <td>35 to 44</td>\n",
       "      <td>285.0</td>\n",
       "      <td>749615.0</td>\n",
       "      <td>14.56</td>\n",
       "      <td>10.91</td>\n",
       "      <td>18.21</td>\n",
       "    </tr>\n",
       "    <tr>\n",
       "      <th>158</th>\n",
       "      <td>2018.0</td>\n",
       "      <td>Age</td>\n",
       "      <td>45 to 54</td>\n",
       "      <td>301.0</td>\n",
       "      <td>1052945.0</td>\n",
       "      <td>20.06</td>\n",
       "      <td>15.60</td>\n",
       "      <td>24.52</td>\n",
       "    </tr>\n",
       "    <tr>\n",
       "      <th>159</th>\n",
       "      <td>2018.0</td>\n",
       "      <td>Age</td>\n",
       "      <td>55 to 64</td>\n",
       "      <td>432.0</td>\n",
       "      <td>854201.0</td>\n",
       "      <td>21.44</td>\n",
       "      <td>17.65</td>\n",
       "      <td>25.23</td>\n",
       "    </tr>\n",
       "    <tr>\n",
       "      <th>160</th>\n",
       "      <td>2018.0</td>\n",
       "      <td>Age</td>\n",
       "      <td>65+ years</td>\n",
       "      <td>450.0</td>\n",
       "      <td>661974.0</td>\n",
       "      <td>15.60</td>\n",
       "      <td>13.42</td>\n",
       "      <td>17.78</td>\n",
       "    </tr>\n",
       "  </tbody>\n",
       "</table>\n",
       "<p>161 rows × 8 columns</p>\n",
       "</div>"
      ],
      "text/plain": [
       "       year          strata strata_name  frequency  weighted_frequency  \\\n",
       "0    2012.0           Total       Total     1920.0              2015.0   \n",
       "1    2012.0             Sex        Male      561.0           1116664.0   \n",
       "2    2012.0             Sex      Female     1359.0           2163108.0   \n",
       "3    2012.0  Race-Ethnicity       White     1314.0           1806371.0   \n",
       "4    2012.0  Race-Ethnicity       Black       97.0            222022.0   \n",
       "..      ...             ...         ...        ...                 ...   \n",
       "156  2018.0             Age    18 to 34      496.0           1623933.0   \n",
       "157  2018.0             Age    35 to 44      285.0            749615.0   \n",
       "158  2018.0             Age    45 to 54      301.0           1052945.0   \n",
       "159  2018.0             Age    55 to 64      432.0            854201.0   \n",
       "160  2018.0             Age   65+ years      450.0            661974.0   \n",
       "\n",
       "     percent  lower_95%_cl  upper_95%_cl  \n",
       "0      11.74         11.11         12.37  \n",
       "1       8.12          7.32          8.92  \n",
       "2      15.25         14.30         16.20  \n",
       "3      14.57         13.67         15.46  \n",
       "4      13.54         10.44         16.65  \n",
       "..       ...           ...           ...  \n",
       "156    17.69         13.72         21.66  \n",
       "157    14.56         10.91         18.21  \n",
       "158    20.06         15.60         24.52  \n",
       "159    21.44         17.65         25.23  \n",
       "160    15.60         13.42         17.78  \n",
       "\n",
       "[161 rows x 8 columns]"
      ]
     },
     "execution_count": 16,
     "metadata": {},
     "output_type": "execute_result"
    }
   ],
   "source": [
    "df"
   ]
  },
  {
   "cell_type": "code",
   "execution_count": 17,
   "id": "b1b7217e-7d4b-4ee7-8618-aec4aa8f93f3",
   "metadata": {},
   "outputs": [
    {
     "data": {
      "text/plain": [
       "year                   float64\n",
       "strata                category\n",
       "strata_name           category\n",
       "frequency              float64\n",
       "weighted_frequency     float64\n",
       "percent                float64\n",
       "lower_95%_cl           float64\n",
       "upper_95%_cl           float64\n",
       "dtype: object"
      ]
     },
     "execution_count": 17,
     "metadata": {},
     "output_type": "execute_result"
    }
   ],
   "source": [
    "# 2nd conversion attempt through infer_objects()\n",
    "df.dtypes"
   ]
  },
  {
   "cell_type": "code",
   "execution_count": 18,
   "id": "4afbf7ea-b5a8-4f1a-ae08-9627a2c598ed",
   "metadata": {},
   "outputs": [],
   "source": [
    "# Create Python df copy dataframe to be converted to R's dataframe\n",
    "df_r = df"
   ]
  },
  {
   "cell_type": "code",
   "execution_count": 19,
   "id": "6d91e117-74ea-4d3a-833a-0c4d4b34e0f1",
   "metadata": {},
   "outputs": [],
   "source": [
    "# Converting df from pandas dataframe to R database (but it is not yet in\n",
    "# the global envirmonment of R).\n",
    "\n",
    "# Converting data frames back and forth between rpy2 and pandas should\n",
    "# be largely automated (no need to convert explicitly, it will be done\n",
    "# on the fly in most rpy2 functions). To convert explicitly, the functions\n",
    "# are pandas2ri.py2ri() and pandas2ri.ri2py().\n",
    "rpy2.robjects.pandas2ri.activate()\n",
    "\n",
    "# Transfer the DataFrame to R, making it accessible as a\n",
    "# global envirmonment variable from R and callable usable\n",
    "# from python. This also converts Pandas categorical vars\n",
    "# to R's factor vars\n",
    "rpy2.robjects.globalenv['df_r'] = rpy2.robjects.pandas2ri.py2rpy(df_r)"
   ]
  },
  {
   "cell_type": "code",
   "execution_count": 20,
   "id": "e7fe2808-17f6-46cb-a964-0880f76ff397",
   "metadata": {},
   "outputs": [
    {
     "name": "stdout",
     "output_type": "stream",
     "text": [
      "'data.frame':\t161 obs. of  8 variables:\n",
      " $ year              : num  2012 2012 2012 2012 2012 ...\n",
      " $ strata            : Factor w/ 6 levels \"Age\",\"Education\",..: 6 5 5 4 4 4 4 4 2 2 ...\n",
      " $ strata_name       : Factor w/ 23 levels \"$100,000+\",\"$20,000 - $34,999\",..: 22 18 15 23 13 17 12 20 19 16 ...\n",
      " $ frequency         : num  1920 561 1359 1314 97 ...\n",
      " $ weighted_frequency: num  2015 1116664 2163108 1806371 222022 ...\n",
      " $ percent           : num  11.74 8.12 15.25 14.57 13.54 ...\n",
      " $ lower_95%_cl      : num  11.11 7.32 14.3 13.67 10.44 ...\n",
      " $ upper_95%_cl      : num  12.37 8.92 16.2 15.46 16.65 ...\n"
     ]
    },
    {
     "data": {
      "text/plain": [
       "In addition: Warning messages:\n",
       "1: In (function (package, help, pos = 2, lib.loc = NULL, character.only = FALSE,  :\n",
       "  library ‘/usr/lib/R/site-library’ contains no packages\n",
       "2: In (function (package, help, pos = 2, lib.loc = NULL, character.only = FALSE,  :\n",
       "  library ‘/usr/lib/R/site-library’ contains no packages\n",
       "3: In (function (package, help, pos = 2, lib.loc = NULL, character.only = FALSE,  :\n",
       "  library ‘/usr/lib/R/site-library’ contains no packages\n",
       "4: In (function (package, help, pos = 2, lib.loc = NULL, character.only = FALSE,  :\n",
       "  library ‘/usr/lib/R/site-library’ contains no packages\n",
       "5: In (function (package, help, pos = 2, lib.loc = NULL, character.only = FALSE,  :\n",
       "  library ‘/usr/lib/R/site-library’ contains no packages\n",
       "6: In (function (package, help, pos = 2, lib.loc = NULL, character.only = FALSE,  :\n",
       "  library ‘/usr/lib/R/site-library’ contains no packages\n",
       "7: In (function (package, help, pos = 2, lib.loc = NULL, character.only = FALSE,  :\n",
       "  library ‘/usr/lib/R/site-library’ contains no packages\n",
       "8: In (function (package, help, pos = 2, lib.loc = NULL, character.only = FALSE,  :\n",
       "  library ‘/usr/lib/R/site-library’ contains no packages\n",
       "9: In (function (package, help, pos = 2, lib.loc = NULL, character.only = FALSE,  :\n",
       "  library ‘/usr/lib/R/site-library’ contains no packages\n"
      ]
     },
     "metadata": {},
     "output_type": "display_data"
    }
   ],
   "source": [
    "%%R\n",
    "\n",
    "# R dataframe\n",
    "str(df_r)"
   ]
  },
  {
   "cell_type": "code",
   "execution_count": 21,
   "id": "a478579f-d603-4d0c-9276-4060b241f657",
   "metadata": {},
   "outputs": [],
   "source": [
    "# Setting the desired variables for the models.\n",
    "response_var=\"percent\"\n",
    "predictor_vars=[\"strata\"]"
   ]
  },
  {
   "cell_type": "code",
   "execution_count": 22,
   "id": "014057b1-94f4-4955-9aa1-a523033f767c",
   "metadata": {},
   "outputs": [],
   "source": [
    "model_formulas = models_generator.generate_all_models(df, response_var, predictor_vars)"
   ]
  },
  {
   "cell_type": "code",
   "execution_count": 23,
   "id": "b504d524-b974-4ff6-b3bd-8ee7438c5861",
   "metadata": {},
   "outputs": [
    {
     "name": "stdout",
     "output_type": "stream",
     "text": [
      "\n",
      "\n",
      "------------------------------------------------------------------------\n",
      "Generating and comparing 8 models...\n",
      "------------------------------------------------------------------------\n",
      "\n"
     ]
    }
   ],
   "source": [
    "models_amount_msg(model_formulas)"
   ]
  },
  {
   "cell_type": "code",
   "execution_count": 24,
   "id": "d7118699-597b-4e70-b60b-106f8aa0d1b3",
   "metadata": {},
   "outputs": [
    {
     "data": {
      "text/plain": [
       "['percent ~ 1',\n",
       " 'percent ~ strata',\n",
       " 'percent ~ strata + (strata | strata)',\n",
       " 'percent ~ 1 + (1 | strata)',\n",
       " 'percent ~ 1 + (0 + strata | strata)',\n",
       " 'percent ~ strata + (1 | strata)',\n",
       " 'percent ~ 1 + (strata | strata)',\n",
       " 'percent ~ strata + (0 + strata | strata)']"
      ]
     },
     "execution_count": 24,
     "metadata": {},
     "output_type": "execute_result"
    }
   ],
   "source": [
    "model_formulas"
   ]
  },
  {
   "cell_type": "code",
   "execution_count": 25,
   "id": "56c5f679-3c7b-4132-96fa-6ee0cf1e3e11",
   "metadata": {},
   "outputs": [
    {
     "name": "stderr",
     "output_type": "stream",
     "text": [
      "Evaluating models:   0%|                                     | 0/1 [00:00<?, ?it/s]R[write to console]: boundary (singular) fit: see help('isSingular')\n",
      "\n",
      "R[write to console]: boundary (singular) fit: see help('isSingular')\n",
      "\n",
      "R[write to console]: boundary (singular) fit: see help('isSingular')\n",
      "\n"
     ]
    },
    {
     "name": "stdout",
     "output_type": "stream",
     "text": [
      "Random effect variances not available. Returned R2 does not account for random effects.\n"
     ]
    },
    {
     "name": "stderr",
     "output_type": "stream",
     "text": [
      "R[write to console]: boundary (singular) fit: see help('isSingular')\n",
      "\n",
      "R[write to console]: boundary (singular) fit: see help('isSingular')\n",
      "\n"
     ]
    },
    {
     "name": "stdout",
     "output_type": "stream",
     "text": [
      "Random effect variances not available. Returned R2 does not account for random effects.\n"
     ]
    },
    {
     "name": "stderr",
     "output_type": "stream",
     "text": [
      "R[write to console]: boundary (singular) fit: see help('isSingular')\n",
      "\n",
      "R[write to console]: boundary (singular) fit: see help('isSingular')\n",
      "\n",
      "R[write to console]: boundary (singular) fit: see help('isSingular')\n",
      "\n"
     ]
    },
    {
     "name": "stdout",
     "output_type": "stream",
     "text": [
      "Random effect variances not available. Returned R2 does not account for random effects.\n"
     ]
    },
    {
     "name": "stderr",
     "output_type": "stream",
     "text": [
      "R[write to console]: boundary (singular) fit: see help('isSingular')\n",
      "\n",
      "Evaluating models: 100%|█████████████████████████████| 1/1 [00:05<00:00,  5.62s/it]\n"
     ]
    }
   ],
   "source": [
    "# but probably it generated that warning because your random effects are very small.\n",
    "# It is likely that one of your variables is not being evaluated as contributing to the\n",
    "# variance. Most likely, the \"culprit\" is the random variable (subj in your case). If you look\n",
    "# at the output of your model (just print ce_model and hit enter, or summary(ce_model)), there\n",
    "# should be a variable that has zero or very nearly zero variance and standard deviation.\n",
    "# In lmer, a singular fit could be caused by collinearity in fixed effects, as in any other linear model.\n",
    "# That would need you to revise your model by removing terms. But in lmer, that (or a \"boundary (singular)\n",
    "# fit\" warning) can also be also triggered in quite simple models when a random effect variance \n",
    "# is estimated very near zero and (very loosely) the data is not sufficiently informative to drag the\n",
    "# estimate away from the zero starting value.\n",
    "# The formal answer is broadly similar either way; drop terms that estimate as zero.\n",
    "evaluation_results = models_features.compute_models_indexes(df, model_formulas)"
   ]
  },
  {
   "cell_type": "code",
   "execution_count": 26,
   "id": "4a24ca42-a884-411e-8fd9-c2d00cb2ff6d",
   "metadata": {
    "scrolled": true
   },
   "outputs": [
    {
     "name": "stdout",
     "output_type": "stream",
     "text": [
      "\n",
      "Best Non-Mixed Model: {'formula': 'percent ~ 1', 'aic': 948.5757534334839, 'bic': 951.6571577984683, 'r_squared': 0.0, 'adj_r_squared': 0.0}\n",
      "\n",
      "Best Mixed Model: {'formula': 'percent ~ strata + (1 | strata)', 'aic': 951.7199733366659, 'bic': 976.3712082565416, 'marginal_r_squared': 0.002940135725896213, 'conditional_r_squared': 0.0014467334524250301}\n"
     ]
    },
    {
     "name": "stderr",
     "output_type": "stream",
     "text": [
      "/home/franaz/coding/python/projects/psy_framework/psy-data-tool_alternative/models_comparison.py:34: RuntimeWarning: invalid value encountered in divide\n",
      "  normalized = (max_val - values) / (max_val - min_val)\n",
      "/home/franaz/coding/python/projects/psy_framework/psy-data-tool_alternative/models_comparison.py:36: RuntimeWarning: invalid value encountered in divide\n",
      "  normalized = (values - min_val) / (max_val - min_val)\n"
     ]
    }
   ],
   "source": [
    "# Perform weighted evaluation\n",
    "best_models = models_comparison.weighted_evaluation(evaluation_results['non_mixed'], evaluation_results['mixed'])"
   ]
  },
  {
   "cell_type": "code",
   "execution_count": 27,
   "id": "ee3b43ab-f012-4c6b-8e99-9cd4d9ef4e43",
   "metadata": {},
   "outputs": [
    {
     "name": "stderr",
     "output_type": "stream",
     "text": [
      "R[write to console]: In addition: \n",
      "R[write to console]: There were 15 warnings (use warnings() to see them)\n",
      "R[write to console]: \n",
      "\n"
     ]
    },
    {
     "name": "stdout",
     "output_type": "stream",
     "text": [
      "Warning messages:\n",
      "1: In (function (package, help, pos = 2, lib.loc = NULL,  ... :\n",
      "  library ‘/usr/lib/R/site-library’ contains no packages\n",
      "2: In (function (package, help, pos = 2, lib.loc = NULL,  ... :\n",
      "  library ‘/usr/lib/R/site-library’ contains no packages\n",
      "3: In (function (package, help, pos = 2, lib.loc = NULL,  ... :\n",
      "  library ‘/usr/lib/R/site-library’ contains no packages\n",
      "4: In (function (package, help, pos = 2, lib.loc = NULL,  ... :\n",
      "  library ‘/usr/lib/R/site-library’ contains no packages\n",
      "5: In (function (package, help, pos = 2, lib.loc = NULL,  ... :\n",
      "  library ‘/usr/lib/R/site-library’ contains no packages\n",
      "6: In (function (package, help, pos = 2, lib.loc = NULL,  ... :\n",
      "  library ‘/usr/lib/R/site-library’ contains no packages\n",
      "7: In (function (package, help, pos = 2, lib.loc = NULL,  ... :\n",
      "  library ‘/usr/lib/R/site-library’ contains no packages\n",
      "8: In (function (package, help, pos = 2, lib.loc = NULL,  ... :\n",
      "  library ‘/usr/lib/R/site-library’ contains no packages\n",
      "9: In (function (package, help, pos = 2, lib.loc = NULL,  ... :\n",
      "  library ‘/usr/lib/R/site-library’ contains no packages\n",
      "\n"
     ]
    }
   ],
   "source": [
    "# Print R warnings\n",
    "r_warnings.print_r_warnings()"
   ]
  },
  {
   "cell_type": "code",
   "execution_count": 28,
   "id": "8311a35a-593f-41ea-9113-fabf8da2fa55",
   "metadata": {
    "scrolled": true
   },
   "outputs": [
    {
     "name": "stdout",
     "output_type": "stream",
     "text": [
      "Non-mixed model formula: percent ~ 1\n",
      "Mixed model formula: percent ~ strata + (1 | strata)\n"
     ]
    },
    {
     "name": "stderr",
     "output_type": "stream",
     "text": [
      "R[write to console]: In addition: \n",
      "R[write to console]: There were 19 warnings (use warnings() to see them)\n",
      "R[write to console]: \n",
      "\n"
     ]
    },
    {
     "name": "stdout",
     "output_type": "stream",
     "text": [
      "PDF generated successfully: ./rplots.pdf\n"
     ]
    },
    {
     "data": {
      "text/html": [
       "\n",
       "        <iframe\n",
       "            width=\"800\"\n",
       "            height=\"600\"\n",
       "            src=\"./rplots.pdf\"\n",
       "            frameborder=\"0\"\n",
       "            allowfullscreen\n",
       "            \n",
       "        ></iframe>\n",
       "        "
      ],
      "text/plain": [
       "<IPython.lib.display.IFrame at 0x7f3f8e4d4640>"
      ]
     },
     "metadata": {},
     "output_type": "display_data"
    }
   ],
   "source": [
    "# Plotting the two best models\n",
    "r_graphics.plot_best_models_diagnostics_ggplot2(best_models, df_r)"
   ]
  },
  {
   "cell_type": "code",
   "execution_count": 29,
   "id": "b8b793fd-8803-470e-8de4-694ac00f0b1e",
   "metadata": {},
   "outputs": [
    {
     "name": "stdout",
     "output_type": "stream",
     "text": [
      "Warning messages:\n",
      "1: In simpleLoess(y, x, w, span, degree = degree, parametric = parametric,  ... :\n",
      "  pseudoinverse used at 0.0062112\n",
      "2: In simpleLoess(y, x, w, span, degree = degree, parametric = parametric,  ... :\n",
      "  neighborhood radius 3.119e-15\n",
      "3: In simpleLoess(y, x, w, span, degree = degree, parametric = parametric,  ... :\n",
      "  reciprocal condition number  0\n",
      "4: In simpleLoess(y, x, w, span, degree = degree, parametric = parametric,  ... :\n",
      "  at  0.0062112\n",
      "5: In simpleLoess(y, x, w, span, degree = degree, parametric = parametric,  ... :\n",
      "  radius  9.6474e-30\n",
      "6: In simpleLoess(y, x, w, span, degree = degree, parametric = parametric,  ... :\n",
      "  all data on boundary of neighborhood. make span bigger\n",
      "7: In simpleLoess(y, x, w, span, degree = degree, parametric = parametric,  ... :\n",
      "  There are other near singularities as well. 9.6474e-30\n",
      "8: In simpleLoess(y, x, w, span, degree = degree, parametric = parametric,  ... :\n",
      "  zero-width neighborhood. make span bigger\n",
      "9: Failed to fit group -1.\n",
      "Caused by error in `predLoess()`:\n",
      "! NA/NaN/Inf in foreign function call (arg 5)\n",
      "10: In checkConv(attr(opt, \"derivs\"), opt$par, ctrl = control$checkConv,  ... :\n",
      "  unable to evaluate scaled gradient\n",
      "11: In checkConv(attr(opt, \"derivs\"), opt$par, ctrl = control$checkConv,  ... :\n",
      "   Hessian is numerically singular: parameters are not uniquely determined\n",
      "12: In simpleLoess(y, x, w, span, degree = degree, parametric = parametric,  ... :\n",
      "  pseudoinverse used at 0.023214\n",
      "13: In simpleLoess(y, x, w, span, degree = degree, parametric = parametric,  ... :\n",
      "  neighborhood radius 0.0125\n",
      "14: In simpleLoess(y, x, w, span, degree = degree, parametric = parametric,  ... :\n",
      "  reciprocal condition number  1.159e-15\n",
      "15: In simpleLoess(y, x, w, span, degree = degree, parametric = parametric,  ... :\n",
      "  There are other near singularities as well. 5.102e-05\n",
      "16: In predLoess(object$y, object$x, newx = if (is.null(newdata)) object$x else if (is.data.frame(newdata)) as.matrix(model.frame(delete.response(terms(object)),  ... :\n",
      "  pseudoinverse used at 0.023214\n",
      "17: In predLoess(object$y, object$x, newx = if (is.null(newdata)) object$x else if (is.data.frame(newdata)) as.matrix(model.frame(delete.response(terms(object)),  ... :\n",
      "  neighborhood radius 0.0125\n",
      "18: In predLoess(object$y, object$x, newx = if (is.null(newdata)) object$x else if (is.data.frame(newdata)) as.matrix(model.frame(delete.response(terms(object)),  ... :\n",
      "  reciprocal condition number  1.159e-15\n",
      "19: In predLoess(object$y, object$x, newx = if (is.null(newdata)) object$x else if (is.data.frame(newdata)) as.matrix(model.frame(delete.response(terms(object)),  ... :\n",
      "  There are other near singularities as well. 5.102e-05\n",
      "\n"
     ]
    }
   ],
   "source": [
    "# Print R warnings\n",
    "r_warnings.print_r_warnings()"
   ]
  },
  {
   "cell_type": "code",
   "execution_count": 30,
   "id": "7583c926-4c11-4efd-b190-468cac4c271c",
   "metadata": {},
   "outputs": [
    {
     "data": {
      "image/png": "[encoded data removed]",
      "text/plain": [
       "<IPython.core.display.Image object>"
      ]
     },
     "metadata": {},
     "output_type": "display_data"
    }
   ],
   "source": [
    "%%R\n",
    "# Residuals vs. Fitted plot directly in Jupyter with gglm()\n",
    "ggplot(data = non_mixed_model) +\n",
    "  stat_fitted_resid() +\n",
    "  labs(title = sprintf(\"Residuals vs. Fitted values for the non-mixed model:\\n%s\",\n",
    "                       paste(deparse(formula(non_mixed_model)), collapse = \"\")))"
   ]
  },
  {
   "cell_type": "code",
   "execution_count": 31,
   "id": "6d320fe2-db26-4405-9506-6212ed110db5",
   "metadata": {},
   "outputs": [
    {
     "data": {
      "image/png": "[encoded data removed]",
      "text/plain": [
       "<IPython.core.display.Image object>"
      ]
     },
     "metadata": {},
     "output_type": "display_data"
    }
   ],
   "source": [
    "%%R\n",
    "# Normal Q-Q plot.\n",
    "ggplot(data = non_mixed_model) +\n",
    "  stat_normal_qq() +\n",
    "  labs(title = sprintf(\"Normall Q-Q for the non-mixed model:\\n%s\",\n",
    "                       paste(deparse(formula(non_mixed_model)), collapse = \"\")))"
   ]
  },
  {
   "cell_type": "code",
   "execution_count": 32,
   "id": "62beb5de-47ce-44e8-9d71-299b5d849561",
   "metadata": {},
   "outputs": [
    {
     "data": {
      "image/png": "[encoded data removed]",
      "text/plain": [
       "<IPython.core.display.Image object>"
      ]
     },
     "metadata": {},
     "output_type": "display_data"
    }
   ],
   "source": [
    "%%R\n",
    "# Scale location diagnostic plot.\n",
    "ggplot(data = non_mixed_model) +\n",
    "  stat_scale_location(\n",
    "  alpha = 0.5,\n",
    "  na.rm = TRUE,\n",
    "  se = TRUE,\n",
    "  method = \"loess\",\n",
    "  color = \"steelblue\",\n",
    "  ) +\n",
    "  labs(title = sprintf(\"Scale location (Residuals vs Fitted) values for the non-mixed model:\\n%s\",\n",
    "                       paste(deparse(formula(non_mixed_model)), collapse = \"\")))"
   ]
  },
  {
   "cell_type": "code",
   "execution_count": 33,
   "id": "d0d1ce13-9154-4d73-a2ad-bc0ffcd99a27",
   "metadata": {},
   "outputs": [
    {
     "name": "stderr",
     "output_type": "stream",
     "text": [
      "R[write to console]: In addition: \n",
      "R[write to console]: Warning messages:\n",
      "\n",
      "R[write to console]: 1: \n",
      "R[write to console]: In simpleLoess(y, x, w, span, degree = degree, parametric = parametric,  :\n",
      "R[write to console]: \n",
      " \n",
      "R[write to console]:  pseudoinverse used at 0.0062112\n",
      "\n",
      "R[write to console]: 2: \n",
      "R[write to console]: In simpleLoess(y, x, w, span, degree = degree, parametric = parametric,  :\n",
      "R[write to console]: \n",
      " \n",
      "R[write to console]:  neighborhood radius 3.119e-15\n",
      "\n",
      "R[write to console]: 3: \n",
      "R[write to console]: In simpleLoess(y, x, w, span, degree = degree, parametric = parametric,  :\n",
      "R[write to console]: \n",
      " \n",
      "R[write to console]:  reciprocal condition number  0\n",
      "\n",
      "R[write to console]: 4: \n",
      "R[write to console]: In simpleLoess(y, x, w, span, degree = degree, parametric = parametric,  :\n",
      "R[write to console]: \n",
      " \n",
      "R[write to console]:  at  0.0062112\n",
      "\n",
      "R[write to console]: 5: \n",
      "R[write to console]: In simpleLoess(y, x, w, span, degree = degree, parametric = parametric,  :\n",
      "R[write to console]: \n",
      " \n",
      "R[write to console]:  radius  9.6474e-30\n",
      "\n",
      "R[write to console]: 6: \n",
      "R[write to console]: In simpleLoess(y, x, w, span, degree = degree, parametric = parametric,  :\n",
      "R[write to console]: \n",
      " \n",
      "R[write to console]:  all data on boundary of neighborhood. make span bigger\n",
      "\n",
      "R[write to console]: 7: \n",
      "R[write to console]: In simpleLoess(y, x, w, span, degree = degree, parametric = parametric,  :\n",
      "R[write to console]: \n",
      " \n",
      "R[write to console]:  There are other near singularities as well. 9.6474e-30\n",
      "\n",
      "R[write to console]: 8: \n",
      "R[write to console]: In simpleLoess(y, x, w, span, degree = degree, parametric = parametric,  :\n",
      "R[write to console]: \n",
      " \n",
      "R[write to console]:  zero-width neighborhood. make span bigger\n",
      "\n",
      "R[write to console]: 9: Failed to fit group -1.\n",
      "Caused by error in `predLoess()`:\n",
      "! NA/NaN/Inf in foreign function call (arg 5) \n",
      "\n"
     ]
    },
    {
     "data": {
      "image/png": "[encoded data removed]",
      "text/plain": [
       "<IPython.core.display.Image object>"
      ]
     },
     "metadata": {},
     "output_type": "display_data"
    }
   ],
   "source": [
    "%%R\n",
    "# Residual vs. leverage plot.\n",
    "ggplot(data = non_mixed_model) +\n",
    "  stat_resid_leverage(\n",
    "  alpha = 0.5,\n",
    "  method = \"loess\",\n",
    "  se = TRUE,\n",
    "  color = \"steelblue\",\n",
    "  ) +\n",
    "  labs(title = sprintf(\"Residual vs. Leverage values for the non-mixed model:\\n%s\",\n",
    "                       paste(deparse(formula(non_mixed_model)), collapse = \"\")))"
   ]
  },
  {
   "cell_type": "code",
   "execution_count": 34,
   "id": "8d897243-b65d-4479-868c-d03d12daf85f",
   "metadata": {},
   "outputs": [
    {
     "data": {
      "image/png": "[encoded data removed]",
      "text/plain": [
       "<IPython.core.display.Image object>"
      ]
     },
     "metadata": {},
     "output_type": "display_data"
    }
   ],
   "source": [
    "%%R\n",
    "# Residuals vs. Fitted plot directly in Jupyter with gglm()\n",
    "ggplot(data = mixed_model) +\n",
    "  stat_fitted_resid() +\n",
    "  labs(title = sprintf(\"Residuals vs. Fitted values for the mixed model:\\n%s\",\n",
    "                       paste(deparse(formula(mixed_model)), collapse = \"\")))"
   ]
  },
  {
   "cell_type": "code",
   "execution_count": 35,
   "id": "780b5619-88fc-438e-b62f-e3f8366dc8ea",
   "metadata": {},
   "outputs": [
    {
     "data": {
      "image/png": "[encoded data removed]",
      "text/plain": [
       "<IPython.core.display.Image object>"
      ]
     },
     "metadata": {},
     "output_type": "display_data"
    }
   ],
   "source": [
    "%%R\n",
    "# Normal Q-Q plot\n",
    "ggplot(data = mixed_model) +\n",
    "  stat_normal_qq() +\n",
    "  labs(title = sprintf(\"Normall Q-Q for the mixed model:\\n%s\",\n",
    "                       paste(deparse(formula(mixed_model)), collapse = \"\")))"
   ]
  },
  {
   "cell_type": "code",
   "execution_count": 36,
   "id": "115132ff-a4c3-4f5e-b031-3cfafda8c34d",
   "metadata": {},
   "outputs": [
    {
     "data": {
      "image/png": "[encoded data removed]",
      "text/plain": [
       "<IPython.core.display.Image object>"
      ]
     },
     "metadata": {},
     "output_type": "display_data"
    }
   ],
   "source": [
    "%%R\n",
    "# Scale location diagnostic plot.\n",
    "ggplot(data = mixed_model) +\n",
    "  stat_scale_location(\n",
    "  alpha = 0.5,\n",
    "  na.rm = TRUE,\n",
    "  se = TRUE,\n",
    "  method = \"loess\",\n",
    "  color = \"steelblue\",\n",
    "  ) +\n",
    "  labs(title = sprintf(\"Scale location (Residuals vs Fitted) values for the mixed model:\\n%s\",\n",
    "                       paste(deparse(formula(mixed_model)), collapse = \"\")))"
   ]
  },
  {
   "cell_type": "code",
   "execution_count": 37,
   "id": "38dc51df-a282-4f46-9a1a-96d5bbe7956a",
   "metadata": {},
   "outputs": [
    {
     "name": "stderr",
     "output_type": "stream",
     "text": [
      "R[write to console]: In addition: \n",
      "R[write to console]: Warning messages:\n",
      "\n",
      "R[write to console]: 1: \n",
      "R[write to console]: In simpleLoess(y, x, w, span, degree = degree, parametric = parametric,  :\n",
      "R[write to console]: \n",
      " \n",
      "R[write to console]:  pseudoinverse used at 0.023214\n",
      "\n",
      "R[write to console]: 2: \n",
      "R[write to console]: In simpleLoess(y, x, w, span, degree = degree, parametric = parametric,  :\n",
      "R[write to console]: \n",
      " \n",
      "R[write to console]:  neighborhood radius 0.0125\n",
      "\n",
      "R[write to console]: 3: \n",
      "R[write to console]: In simpleLoess(y, x, w, span, degree = degree, parametric = parametric,  :\n",
      "R[write to console]: \n",
      " \n",
      "R[write to console]:  reciprocal condition number  1.159e-15\n",
      "\n",
      "R[write to console]: 4: \n",
      "R[write to console]: In simpleLoess(y, x, w, span, degree = degree, parametric = parametric,  :\n",
      "R[write to console]: \n",
      " \n",
      "R[write to console]:  There are other near singularities as well. 5.102e-05\n",
      "\n",
      "R[write to console]: 5: \n",
      "R[write to console]: In predLoess(object$y, object$x, newx = if (is.null(newdata)) object$x else if (is.data.frame(newdata)) as.matrix(model.frame(delete.response(terms(object)),  :\n",
      "R[write to console]: \n",
      " \n",
      "R[write to console]:  pseudoinverse used at 0.023214\n",
      "\n",
      "R[write to console]: 6: \n",
      "R[write to console]: In predLoess(object$y, object$x, newx = if (is.null(newdata)) object$x else if (is.data.frame(newdata)) as.matrix(model.frame(delete.response(terms(object)),  :\n",
      "R[write to console]: \n",
      " \n",
      "R[write to console]:  neighborhood radius 0.0125\n",
      "\n",
      "R[write to console]: 7: \n",
      "R[write to console]: In predLoess(object$y, object$x, newx = if (is.null(newdata)) object$x else if (is.data.frame(newdata)) as.matrix(model.frame(delete.response(terms(object)),  :\n",
      "R[write to console]: \n",
      " \n",
      "R[write to console]:  reciprocal condition number  1.159e-15\n",
      "\n",
      "R[write to console]: 8: \n",
      "R[write to console]: In predLoess(object$y, object$x, newx = if (is.null(newdata)) object$x else if (is.data.frame(newdata)) as.matrix(model.frame(delete.response(terms(object)),  :\n",
      "R[write to console]: \n",
      " \n",
      "R[write to console]:  There are other near singularities as well. 5.102e-05\n",
      "\n"
     ]
    },
    {
     "data": {
      "image/png": "[encoded data removed]",
      "text/plain": [
       "<IPython.core.display.Image object>"
      ]
     },
     "metadata": {},
     "output_type": "display_data"
    }
   ],
   "source": [
    "%%R\n",
    "# Residual vs. leverage plot.\n",
    "ggplot(data = mixed_model) +\n",
    "  stat_resid_leverage(\n",
    "  alpha = 0.5,\n",
    "  method = \"loess\",\n",
    "  se = TRUE,\n",
    "  color = \"steelblue\",\n",
    "  ) +\n",
    "  labs(title = sprintf(\"Residual vs. Leverage values for the mixed model:\\n%s\",\n",
    "                       paste(deparse(formula(mixed_model)), collapse = \"\")))"
   ]
  },
  {
   "cell_type": "code",
   "execution_count": 38,
   "id": "e5984176-2be2-4c01-9518-37d3880ba65c",
   "metadata": {},
   "outputs": [
    {
     "ename": "NameError",
     "evalue": "name 'non_mixed_model' is not defined",
     "output_type": "error",
     "traceback": [
      "\u001b[0;31m---------------------------------------------------------------------------\u001b[0m",
      "\u001b[0;31mNameError\u001b[0m                                 Traceback (most recent call last)",
      "Cell \u001b[0;32mIn[38], line 2\u001b[0m\n\u001b[1;32m      1\u001b[0m \u001b[38;5;66;03m# Create the ggplot objects for each model\u001b[39;00m\n\u001b[0;32m----> 2\u001b[0m plot1 \u001b[38;5;241m=\u001b[39m rpy2\u001b[38;5;241m.\u001b[39mrobjects\u001b[38;5;241m.\u001b[39mr[\u001b[38;5;124m'\u001b[39m\u001b[38;5;124mgglm\u001b[39m\u001b[38;5;124m'\u001b[39m](\u001b[43mnon_mixed_model\u001b[49m[\u001b[38;5;241m0\u001b[39m])\n\u001b[1;32m      3\u001b[0m plot2 \u001b[38;5;241m=\u001b[39m rpy2\u001b[38;5;241m.\u001b[39mrobjects\u001b[38;5;241m.\u001b[39mr[\u001b[38;5;124m'\u001b[39m\u001b[38;5;124mgglm\u001b[39m\u001b[38;5;124m'\u001b[39m](non_mixed_model[\u001b[38;5;241m1\u001b[39m])\n\u001b[1;32m      4\u001b[0m plot3 \u001b[38;5;241m=\u001b[39m rpy2\u001b[38;5;241m.\u001b[39mrobjects\u001b[38;5;241m.\u001b[39mr[\u001b[38;5;124m'\u001b[39m\u001b[38;5;124mgglm\u001b[39m\u001b[38;5;124m'\u001b[39m](non_mixed_model[\u001b[38;5;241m2\u001b[39m])\n",
      "\u001b[0;31mNameError\u001b[0m: name 'non_mixed_model' is not defined"
     ]
    }
   ],
   "source": [
    "# Create the ggplot objects for each model\n",
    "plot1 = rpy2.robjects.r['gglm'](non_mixed_model[0])\n",
    "plot2 = rpy2.robjects.r['gglm'](non_mixed_model[1])\n",
    "plot3 = rpy2.robjects.r['gglm'](non_mixed_model[2])\n",
    "plot4 = rpy2.robjects.r['gglm'](non_mixed_model[3])\n",
    "\n",
    "# Arrange them in a single column layout\n",
    "grid_arrange = rpy2.robjects.r['grid.arrange']\n",
    "grid_arrange(plot1, plot2, plot3, plot4, ncol=1)"
   ]
  },
  {
   "cell_type": "code",
   "execution_count": null,
   "id": "be195a7a-e9f1-47a9-ba31-0267ca96f8ad",
   "metadata": {},
   "outputs": [],
   "source": [
    "# Create the ggplot objects for each model\n",
    "plot1 = rpy2.robjects.r['gglm'](non_mixed_model)[0]\n",
    "plot2 = rpy2.robjects.r['gglm'](non_mixed_model)[1]\n",
    "plot3 = rpy2.robjects.r['gglm'](non_mixed_model)[2]\n",
    "plot4 = rpy2.robjects.r['gglm'](non_mixed_model)[3]\n",
    "\n",
    "# Arrange them in a single column layout\n",
    "grid_arrange = rpy2.robjects.r['grid.arrange']\n",
    "grid_arrange(plot1, plot2, plot3, plot4, ncol=1)"
   ]
  },
  {
   "cell_type": "code",
   "execution_count": null,
   "id": "7d714edc-212c-43bc-ac81-1c4e6a01875a",
   "metadata": {},
   "outputs": [],
   "source": [
    "# If you want to represent matplotlib plots in Jupyter cells...\n",
    "# '%matplotlib inline' causes the plots to appear right below the cell.\n",
    "# '%matplotlib notebook' magic command does not only plots the graph below the cell; it \n",
    "# also plots the graph in an interactive window.\n",
    "%matplotlib inline\n",
    "%matplotlib ipympl"
   ]
  },
  {
   "cell_type": "code",
   "execution_count": null,
   "id": "77e0f06b-f558-4ec1-bc66-29525e53b982",
   "metadata": {},
   "outputs": [],
   "source": [
    "%%R\n",
    "# Base R approach (if gglm behaves like base R)\n",
    "par(mfrow=c(4,1))\n",
    "gglm(non_mixed_model)  # This will produce the 4 plots in one column"
   ]
  },
  {
   "cell_type": "code",
   "execution_count": null,
   "id": "f1685608-5314-4e0e-84ec-6681e1368c89",
   "metadata": {},
   "outputs": [],
   "source": [
    "# Create the ggplot objects for each model\n",
    "# Execute the R code\n",
    "\n",
    "plot1 = rpy2.robjects.r(\"\"\"gglm(non_mixed_model)\"\"\")\n",
    "\n",
    "# Arrange them in a single column layout\n",
    "grid_arrange = rpy2.robjects.r['grid.arrange']\n",
    "grid_arrange(plot1, ncol=1)"
   ]
  },
  {
   "cell_type": "code",
   "execution_count": null,
   "id": "d3d9ac79-9c3f-4dbb-859c-c6ce5fb39adc",
   "metadata": {},
   "outputs": [],
   "source": [
    "%%R\n",
    "\n",
    "# Assuming gglm(non_mixed_model) generates one plot, replicate this for four different diagnostics\n",
    "plot1 <- plot(non_mixed_model, which=1) # Residuals vs Fitted\n",
    "plot2 <- plot(non_mixed_model, which=2) # Normal Q-Q\n",
    "plot3 <- plot(non_mixed_model, which=3) # Scale-Location\n",
    "plot4 <- plot(non_mixed_model, which=4) # Cook's distance\n",
    "\n",
    "# Arrange the plots in a 5x1 grid\n",
    "grid.arrange(plot1, plot2, plot3, plot4, ncol=1)"
   ]
  },
  {
   "cell_type": "code",
   "execution_count": null,
   "id": "dd605cd5-bca3-4295-bc4b-b290cd421749",
   "metadata": {},
   "outputs": [],
   "source": []
  }
 ],
 "metadata": {
  "kernelspec": {
   "display_name": "data analisys venv",
   "language": "python",
   "name": ".venv"
  },
  "language_info": {
   "codemirror_mode": {
    "name": "ipython",
    "version": 3
   },
   "file_extension": ".py",
   "mimetype": "text/x-python",
   "name": "python",
   "nbconvert_exporter": "python",
   "pygments_lexer": "ipython3",
   "version": "3.10.12"
  }
 },
 "nbformat": 4,
 "nbformat_minor": 5
}
