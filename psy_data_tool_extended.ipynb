{
 "cells": [
  {
   "cell_type": "code",
   "execution_count": 1,
   "id": "fbbafed0-856f-49cf-99c7-74892e1c6c59",
   "metadata": {},
   "outputs": [],
   "source": [
    "# Actually you didn't remove bambi and arviz and formulae because you installed them from\n",
    "# jupyter directly with magic % => solve this problem (if they get imported they are still installed)\n",
    "# import arviz as az\n",
    "# import bambi as bmb\n",
    "# import formulae\n",
    "# from formulaic import formula"
   ]
  },
  {
   "cell_type": "code",
   "execution_count": 2,
   "id": "99206dde-e350-47a8-89e4-307e1e177952",
   "metadata": {},
   "outputs": [],
   "source": [
    "# A script to automate models generation, models performances\n",
    "# and graphical representations for psychological research. It\n",
    "# generates a JSON report and takes data from it for an\n",
    "# intelligent categorization of the database variablels."
   ]
  },
  {
   "cell_type": "code",
   "execution_count": 3,
   "id": "fee9e268-0b3c-48fb-bfa7-bf46ce4f25a2",
   "metadata": {},
   "outputs": [],
   "source": [
    "# You must have R installed sistem-wide at '/usr/lib/R', the default\n",
    "# installation folder in Linux operating systems. Otherwise modify\n",
    "# the path of the R_HOME environment variable.\n",
    "# It is recommended to install R from terminal because doing it from jupyter\n",
    "# may cause problems for password typing and admin permissions when\n",
    "# installation commands are run.\n",
    "# It is recommended to install all python packages in a virtual environment.\n",
    "# If you're using a python venv to install packages, install them with\n",
    "# pip with the -m option. This with install the packages in the\n",
    "# virtual environment.\n",
    "# To install them from Jupyter Notebook run \"!python3 -m pip install rpy2\"\n",
    "# in a cell.\n",
    "\n",
    "# Install pillow from Jupyter cell with \"%pip install pillow\"\n",
    "# Install ipympl from Jupyter cell with \"%pip install ipympl\"\n",
    "\n",
    "# Install LMER packages (THIS TAKES ABOUT 3~5 minutes)\n",
    "# packnames = ('lme4', 'lmerTest', 'emmeans', 'geepack', 'performance', 'graphics')\n",
    "# utils = rpy2.robjects.packages.importr(\"utils\")\n",
    "# utils.chooseCRANmirror(ind=1)\n",
    "# utils.install_packages(rpy2.robjects.vectors.StrVector(packnames))"
   ]
  },
  {
   "cell_type": "code",
   "execution_count": 5,
   "id": "9df66573-f0a0-4347-b555-a55f0953120b",
   "metadata": {},
   "outputs": [],
   "source": [
    "# Importing Python packages\n",
    "import os\n",
    "import rpy2\n",
    "import pandas as pd\n",
    "\n",
    "# Set env variable R_HOME through python. Change the path according to your platform/OS\n",
    "# and your filesystem.\n",
    "os.environ['R_HOME'] = '/usr/lib/R'\n",
    "\n",
    "# Enable cell magic for rpy2 interface.\n",
    "# %R and %%R are the line and cell magics, respectively.\n",
    "%load_ext rpy2.ipython\n",
    "\n",
    "# Loading R packages\n",
    "graphics = rpy2.robjects.packages.importr('graphics') # Equivalent to \"library(graphics)\"\n",
    "lme4 = rpy2.robjects.packages.importr('lme4')\n",
    "lmerTest = rpy2.robjects.packages.importr('lmerTest')\n",
    "performance = rpy2.robjects.packages.importr('performance')\n",
    "graphics = rpy2.robjects.packages.importr('graphics')\n",
    "\n",
    "# Importing my modules\n",
    "from data_cleaner import clean_dataframe\n",
    "import ydata_profiling_generator\n",
    "from vars_conversion import load_yprofiling_report, build_dtypes_dict, convert_dtypes, represent_dtype_changelog, convert_categoricals_to_strings\n",
    "from print_models_amount import models_amount_msg\n",
    "import models_generator_complex_predictors_selection\n",
    "import models_features\n",
    "import models_comparison\n",
    "import r_warnings\n",
    "import r_graphics"
   ]
  },
  {
   "cell_type": "code",
   "execution_count": 6,
   "id": "aaa050d0-13e7-4852-846d-7124864274ee",
   "metadata": {
    "scrolled": true
   },
   "outputs": [],
   "source": [
    "# Load database and build pandas DataFrame\n",
    "df = pd.read_csv(\"./data/Titanic-Dataset.csv\")"
   ]
  },
  {
   "cell_type": "code",
   "execution_count": 7,
   "id": "727ee9bd-3fe1-4142-8e52-a2b462f3a1a3",
   "metadata": {},
   "outputs": [
    {
     "data": {
      "application/vnd.jupyter.widget-view+json": {
       "model_id": "fae68bbfdcc34ba9aca859f6799c7df5",
       "version_major": 2,
       "version_minor": 0
      },
      "text/plain": [
       "Summarize dataset:   0%|          | 0/5 [00:00<?, ?it/s]"
      ]
     },
     "metadata": {},
     "output_type": "display_data"
    },
    {
     "name": "stderr",
     "output_type": "stream",
     "text": [
      "/home/franaz/coding/python/.venv/lib/python3.10/site-packages/ydata_profiling/model/correlations.py:66: UserWarning: There was an attempt to calculate the auto correlation, but this failed.\n",
      "To hide this warning, disable the calculation\n",
      "(using `df.profile_report(correlations={\"auto\": {\"calculate\": False}})`\n",
      "If this is problematic for your use case, please report this as an issue:\n",
      "https://github.com/ydataai/ydata-profiling/issues\n",
      "(include the error message: 'could not convert string to float: 'S'')\n",
      "  warnings.warn(\n",
      "/home/franaz/coding/python/.venv/lib/python3.10/site-packages/seaborn/matrix.py:260: FutureWarning: Format strings passed to MaskedConstant are ignored, but in future may error or produce different behavior\n",
      "  annotation = (\"{:\" + self.fmt + \"}\").format(val)\n",
      "/home/franaz/coding/python/.venv/lib/python3.10/site-packages/ydata_profiling/model/missing.py:78: UserWarning: There was an attempt to generate the Heatmap missing values diagrams, but this failed.\n",
      "To hide this warning, disable the calculation\n",
      "(using `df.profile_report(missing_diagrams={\"Heatmap\": False}`)\n",
      "If this is problematic for your use case, please report this as an issue:\n",
      "https://github.com/ydataai/ydata-profiling/issues\n",
      "(include the error message: 'could not convert string to float: '--'')\n",
      "  warnings.warn(\n"
     ]
    },
    {
     "data": {
      "application/vnd.jupyter.widget-view+json": {
       "model_id": "78107e709aa64c7eb75d06f796e76526",
       "version_major": 2,
       "version_minor": 0
      },
      "text/plain": [
       "Generate report structure:   0%|          | 0/1 [00:00<?, ?it/s]"
      ]
     },
     "metadata": {},
     "output_type": "display_data"
    },
    {
     "data": {
      "application/vnd.jupyter.widget-view+json": {
       "model_id": "d5b6cddb709b42808b4a08482474f7e0",
       "version_major": 2,
       "version_minor": 0
      },
      "text/plain": [
       "Render HTML:   0%|          | 0/1 [00:00<?, ?it/s]"
      ]
     },
     "metadata": {},
     "output_type": "display_data"
    },
    {
     "data": {
      "application/vnd.jupyter.widget-view+json": {
       "model_id": "1dd30596c7654db2a5f5026916c76f0a",
       "version_major": 2,
       "version_minor": 0
      },
      "text/plain": [
       "Export report to file:   0%|          | 0/1 [00:00<?, ?it/s]"
      ]
     },
     "metadata": {},
     "output_type": "display_data"
    },
    {
     "data": {
      "application/vnd.jupyter.widget-view+json": {
       "model_id": "29fd72323c684c2584ef8ad00008f04e",
       "version_major": 2,
       "version_minor": 0
      },
      "text/plain": [
       "Render JSON:   0%|          | 0/1 [00:00<?, ?it/s]"
      ]
     },
     "metadata": {},
     "output_type": "display_data"
    },
    {
     "data": {
      "application/vnd.jupyter.widget-view+json": {
       "model_id": "62c2e19e416a494fb83f3ee254f31336",
       "version_major": 2,
       "version_minor": 0
      },
      "text/plain": [
       "Export report to file:   0%|          | 0/1 [00:00<?, ?it/s]"
      ]
     },
     "metadata": {},
     "output_type": "display_data"
    }
   ],
   "source": [
    "# Generate ydata-profiling report and store it in same\n",
    "# folder where this script is stored.\n",
    "ydata_profiling_generator.generate_profiling_report(df)"
   ]
  },
  {
   "cell_type": "code",
   "execution_count": 8,
   "id": "ceded023-fa9e-473e-84fb-4f9b736f1021",
   "metadata": {},
   "outputs": [
    {
     "name": "stdout",
     "output_type": "stream",
     "text": [
      "Original df shape: (891, 12)\n",
      "Cleaned df shape: (891, 11)\n"
     ]
    }
   ],
   "source": [
    "# Clean the dataframe and print shape difference\n",
    "df = clean_dataframe(df)\n",
    "\n",
    "# Please note:\n",
    "# For semplicity and function reuse I've decided to keep\n",
    "# df and not cleaned_df. After this point we will then keep\n",
    "# df, but it is actually the cleaned df instead of the original one."
   ]
  },
  {
   "cell_type": "code",
   "execution_count": 9,
   "id": "ffa78421-8b51-4991-9960-905c8385b6d2",
   "metadata": {},
   "outputs": [],
   "source": [
    "# Generates the ydata-profiling report in the same\n",
    "# folder of this script and loads it in this\n",
    "# environment, allowing ops with the JSON reported data.\n",
    "# It intelligrently gives his data types to\n",
    "# the variables in the dataframe, which will\n",
    "# be useful for vars conversion later.\n",
    "data_profile = load_yprofiling_report()"
   ]
  },
  {
   "cell_type": "code",
   "execution_count": 10,
   "id": "e12bf4cd-40e6-47c7-9ae7-52344e700f4b",
   "metadata": {},
   "outputs": [],
   "source": [
    "# n.b.! Theese dtypes are not the same used by pandas, so we must match\n",
    "# them before converting the vars of a pandas dataframe.\n",
    "report_dtypes = build_dtypes_dict(data_profile)"
   ]
  },
  {
   "cell_type": "code",
   "execution_count": 11,
   "id": "ff0b1d2d-9fe3-4dbf-8781-1863032dbafb",
   "metadata": {},
   "outputs": [],
   "source": [
    "# Create an object that contains the original dtypes\n",
    "original_dtypes = df.dtypes"
   ]
  },
  {
   "cell_type": "code",
   "execution_count": 12,
   "id": "f54ffba8-0783-402f-be9c-46ab44e3a88e",
   "metadata": {},
   "outputs": [
    {
     "name": "stdout",
     "output_type": "stream",
     "text": [
      "'Column cabin not found in DataFrame'\n"
     ]
    }
   ],
   "source": [
    "# Convert the DataFrame dtypes\n",
    "# \"Not found\" columns should be the ones that have been deleted\n",
    "# after cleaning\n",
    "df = convert_dtypes(df, report_dtypes)"
   ]
  },
  {
   "cell_type": "code",
   "execution_count": 13,
   "id": "b60ab4db-f172-4f5a-a4e2-19621c794f4a",
   "metadata": {},
   "outputs": [
    {
     "name": "stdout",
     "output_type": "stream",
     "text": [
      "-----------------------\n",
      "Variable conversion log\n",
      "-----------------------\n",
      "\n",
      "survived: int64 --> category\n",
      "pclass: int64 --> category\n",
      "sex: object --> category\n",
      "embarked: object --> category\n"
     ]
    }
   ],
   "source": [
    "represent_dtype_changelog(df, original_dtypes)"
   ]
  },
  {
   "cell_type": "code",
   "execution_count": 14,
   "id": "62529d41-bb92-4b70-b474-af62230934ee",
   "metadata": {},
   "outputs": [],
   "source": [
    "# Converting df from pandas dataframe to R database (but it is not yet in\n",
    "# the global envirmonment of R).\n",
    "\n",
    "# Converting data frames back and forth between rpy2 and pandas should\n",
    "# be largely automated (no need to convert explicitly, it will be done\n",
    "# on the fly in most rpy2 functions). To convert explicitly, the functions\n",
    "# are pandas2ri.py2ri() and pandas2ri.ri2py().\n",
    "rpy2.robjects.pandas2ri.activate()"
   ]
  },
  {
   "cell_type": "code",
   "execution_count": 15,
   "id": "4afbf7ea-b5a8-4f1a-ae08-9627a2c598ed",
   "metadata": {},
   "outputs": [],
   "source": [
    "# Converting category dtypes to strings so that R can operate on them.\n",
    "# This is necessary since R uses slightly different data type\n",
    "# than Pandas. Pandas has a data type for categorical data.\n",
    "df_r = convert_categoricals_to_strings(df)"
   ]
  },
  {
   "cell_type": "code",
   "execution_count": 16,
   "id": "6d91e117-74ea-4d3a-833a-0c4d4b34e0f1",
   "metadata": {},
   "outputs": [],
   "source": [
    "# Transfer the DataFrame to R, making it accessible as a\n",
    "# global envirmonment variable from R and callable usable\n",
    "# from python.\n",
    "rpy2.robjects.globalenv['df_r'] = rpy2.robjects.pandas2ri.py2rpy(df_r)"
   ]
  },
  {
   "cell_type": "code",
   "execution_count": 17,
   "id": "a478579f-d603-4d0c-9276-4060b241f657",
   "metadata": {},
   "outputs": [],
   "source": [
    "# Setting the desired variables for the models.\n",
    "response_var=\"age\"\n",
    "predictor_vars=[\"survived\", \"sex\"]"
   ]
  },
  {
   "cell_type": "code",
   "execution_count": 18,
   "id": "014057b1-94f4-4955-9aa1-a523033f767c",
   "metadata": {},
   "outputs": [],
   "source": [
    "model_formulas = models_generator_complex_predictors_selection.generate_all_models(df, response_var, predictor_vars)"
   ]
  },
  {
   "cell_type": "code",
   "execution_count": 19,
   "id": "b504d524-b974-4ff6-b3bd-8ee7438c5861",
   "metadata": {},
   "outputs": [
    {
     "name": "stdout",
     "output_type": "stream",
     "text": [
      "\n",
      "\n",
      "------------------------------------------------------------------------\n",
      "Generating and comparing 40 models...\n",
      "------------------------------------------------------------------------\n",
      "\n"
     ]
    }
   ],
   "source": [
    "models_amount_msg(model_formulas)"
   ]
  },
  {
   "cell_type": "code",
   "execution_count": 20,
   "id": "d7118699-597b-4e70-b60b-106f8aa0d1b3",
   "metadata": {},
   "outputs": [
    {
     "data": {
      "text/plain": [
       "['age ~ 1',\n",
       " 'age ~ survived',\n",
       " 'age ~ sex',\n",
       " 'age ~ survived + sex',\n",
       " 'age ~ survived:sex',\n",
       " 'age ~ survived + sex + survived:sex',\n",
       " 'age ~ survived + survived:sex',\n",
       " 'age ~ sex + survived:sex',\n",
       " 'age ~ 1 + (0 + survived + sex | survived)',\n",
       " 'age ~ sex + (1 | survived)',\n",
       " 'age ~ 1 + (sex | sex)',\n",
       " 'age ~ survived + (0 + survived | survived)',\n",
       " 'age ~ survived + sex + (1 | survived)',\n",
       " 'age ~ survived + (survived | survived)',\n",
       " 'age ~ survived + sex + (survived + sex | survived)',\n",
       " 'age ~ survived + sex + (1 | sex)',\n",
       " 'age ~ sex + (sex | survived)',\n",
       " 'age ~ 1 + (0 + survived | sex)',\n",
       " 'age ~ 1 + (0 + sex | sex)',\n",
       " 'age ~ survived + (1 | sex)',\n",
       " 'age ~ sex + (0 + sex | survived)',\n",
       " 'age ~ 1 + (sex | survived)',\n",
       " 'age ~ survived + (survived | sex)',\n",
       " 'age ~ sex + (sex | sex)',\n",
       " 'age ~ 1 + (0 + survived + sex | sex)',\n",
       " 'age ~ 1 + (1 | sex)',\n",
       " 'age ~ survived + (0 + survived | sex)',\n",
       " 'age ~ survived + (1 | survived)',\n",
       " 'age ~ 1 + (0 + sex | survived)',\n",
       " 'age ~ survived + sex + (0 + survived + sex | sex)',\n",
       " 'age ~ survived + sex + (0 + survived + sex | survived)',\n",
       " 'age ~ 1 + (survived | sex)',\n",
       " 'age ~ survived + sex + (survived + sex | sex)',\n",
       " 'age ~ sex + (1 | sex)',\n",
       " 'age ~ 1 + (survived | survived)',\n",
       " 'age ~ 1 + (survived + sex | sex)',\n",
       " 'age ~ 1 + (1 | survived)',\n",
       " 'age ~ 1 + (0 + survived | survived)',\n",
       " 'age ~ 1 + (survived + sex | survived)',\n",
       " 'age ~ sex + (0 + sex | sex)']"
      ]
     },
     "execution_count": 20,
     "metadata": {},
     "output_type": "execute_result"
    }
   ],
   "source": [
    "model_formulas"
   ]
  },
  {
   "cell_type": "code",
   "execution_count": 21,
   "id": "56c5f679-3c7b-4132-96fa-6ee0cf1e3e11",
   "metadata": {},
   "outputs": [
    {
     "name": "stderr",
     "output_type": "stream",
     "text": [
      "Evaluating models:   0%|                                                | 0/4 [00:00<?, ?it/s]R[write to console]: boundary (singular) fit: see help('isSingular')\n",
      "\n",
      "R[write to console]: boundary (singular) fit: see help('isSingular')\n",
      "\n"
     ]
    },
    {
     "name": "stdout",
     "output_type": "stream",
     "text": [
      "Random effect variances not available. Returned R2 does not account for random effects.\n"
     ]
    },
    {
     "name": "stderr",
     "output_type": "stream",
     "text": [
      "Evaluating models:  25%|██████████                              | 1/4 [00:01<00:04,  1.54s/it]R[write to console]: boundary (singular) fit: see help('isSingular')\n",
      "\n",
      "R[write to console]: boundary (singular) fit: see help('isSingular')\n",
      "\n"
     ]
    },
    {
     "name": "stdout",
     "output_type": "stream",
     "text": [
      "Random effect variances not available. Returned R2 does not account for random effects.\n"
     ]
    },
    {
     "name": "stderr",
     "output_type": "stream",
     "text": [
      "R[write to console]: boundary (singular) fit: see help('isSingular')\n",
      "\n",
      "R[write to console]: boundary (singular) fit: see help('isSingular')\n",
      "\n"
     ]
    },
    {
     "name": "stdout",
     "output_type": "stream",
     "text": [
      "Random effect variances not available. Returned R2 does not account for random effects.\n"
     ]
    },
    {
     "name": "stderr",
     "output_type": "stream",
     "text": [
      "R[write to console]: boundary (singular) fit: see help('isSingular')\n",
      "\n",
      "R[write to console]: boundary (singular) fit: see help('isSingular')\n",
      "\n"
     ]
    },
    {
     "name": "stdout",
     "output_type": "stream",
     "text": [
      "Random effect variances not available. Returned R2 does not account for random effects.\n"
     ]
    },
    {
     "name": "stderr",
     "output_type": "stream",
     "text": [
      "R[write to console]: boundary (singular) fit: see help('isSingular')\n",
      "\n",
      "R[write to console]: boundary (singular) fit: see help('isSingular')\n",
      "\n"
     ]
    },
    {
     "name": "stdout",
     "output_type": "stream",
     "text": [
      "Random effect variances not available. Returned R2 does not account for random effects.\n"
     ]
    },
    {
     "name": "stderr",
     "output_type": "stream",
     "text": [
      "R[write to console]: boundary (singular) fit: see help('isSingular')\n",
      "\n"
     ]
    },
    {
     "name": "stdout",
     "output_type": "stream",
     "text": [
      "Random effect variances not available. Returned R2 does not account for random effects.\n"
     ]
    },
    {
     "name": "stderr",
     "output_type": "stream",
     "text": [
      "Evaluating models:  50%|████████████████████                    | 2/4 [00:04<00:04,  2.34s/it]R[write to console]: boundary (singular) fit: see help('isSingular')\n",
      "\n",
      "R[write to console]: boundary (singular) fit: see help('isSingular')\n",
      "\n"
     ]
    },
    {
     "name": "stdout",
     "output_type": "stream",
     "text": [
      "Random effect variances not available. Returned R2 does not account for random effects.\n"
     ]
    },
    {
     "name": "stderr",
     "output_type": "stream",
     "text": [
      "R[write to console]: boundary (singular) fit: see help('isSingular')\n",
      "\n",
      "R[write to console]: boundary (singular) fit: see help('isSingular')\n",
      "\n"
     ]
    },
    {
     "name": "stdout",
     "output_type": "stream",
     "text": [
      "Random effect variances not available. Returned R2 does not account for random effects.\n"
     ]
    },
    {
     "name": "stderr",
     "output_type": "stream",
     "text": [
      "R[write to console]: boundary (singular) fit: see help('isSingular')\n",
      "\n",
      "R[write to console]: boundary (singular) fit: see help('isSingular')\n",
      "\n"
     ]
    },
    {
     "name": "stdout",
     "output_type": "stream",
     "text": [
      "Random effect variances not available. Returned R2 does not account for random effects.\n"
     ]
    },
    {
     "name": "stderr",
     "output_type": "stream",
     "text": [
      "R[write to console]: boundary (singular) fit: see help('isSingular')\n",
      "\n",
      "R[write to console]: boundary (singular) fit: see help('isSingular')\n",
      "\n",
      "R[write to console]: boundary (singular) fit: see help('isSingular')\n",
      "\n"
     ]
    },
    {
     "name": "stdout",
     "output_type": "stream",
     "text": [
      "Random effect variances not available. Returned R2 does not account for random effects.\n"
     ]
    },
    {
     "name": "stderr",
     "output_type": "stream",
     "text": [
      "R[write to console]: boundary (singular) fit: see help('isSingular')\n",
      "\n",
      "R[write to console]: boundary (singular) fit: see help('isSingular')\n",
      "\n"
     ]
    },
    {
     "name": "stdout",
     "output_type": "stream",
     "text": [
      "Random effect variances not available. Returned R2 does not account for random effects.\n"
     ]
    },
    {
     "name": "stderr",
     "output_type": "stream",
     "text": [
      "R[write to console]: boundary (singular) fit: see help('isSingular')\n",
      "\n",
      "R[write to console]: boundary (singular) fit: see help('isSingular')\n",
      "\n"
     ]
    },
    {
     "name": "stdout",
     "output_type": "stream",
     "text": [
      "Random effect variances not available. Returned R2 does not account for random effects.\n"
     ]
    },
    {
     "name": "stderr",
     "output_type": "stream",
     "text": [
      "R[write to console]: boundary (singular) fit: see help('isSingular')\n",
      "\n",
      "R[write to console]: boundary (singular) fit: see help('isSingular')\n",
      "\n"
     ]
    },
    {
     "name": "stdout",
     "output_type": "stream",
     "text": [
      "Random effect variances not available. Returned R2 does not account for random effects.\n"
     ]
    },
    {
     "name": "stderr",
     "output_type": "stream",
     "text": [
      "Evaluating models:  75%|██████████████████████████████          | 3/4 [00:07<00:02,  2.78s/it]R[write to console]: boundary (singular) fit: see help('isSingular')\n",
      "\n",
      "R[write to console]: boundary (singular) fit: see help('isSingular')\n",
      "\n"
     ]
    },
    {
     "name": "stdout",
     "output_type": "stream",
     "text": [
      "Random effect variances not available. Returned R2 does not account for random effects.\n"
     ]
    },
    {
     "name": "stderr",
     "output_type": "stream",
     "text": [
      "R[write to console]: boundary (singular) fit: see help('isSingular')\n",
      "\n",
      "R[write to console]: boundary (singular) fit: see help('isSingular')\n",
      "\n"
     ]
    },
    {
     "name": "stdout",
     "output_type": "stream",
     "text": [
      "Random effect variances not available. Returned R2 does not account for random effects.\n"
     ]
    },
    {
     "name": "stderr",
     "output_type": "stream",
     "text": [
      "R[write to console]: boundary (singular) fit: see help('isSingular')\n",
      "\n",
      "R[write to console]: boundary (singular) fit: see help('isSingular')\n",
      "\n"
     ]
    },
    {
     "name": "stdout",
     "output_type": "stream",
     "text": [
      "Random effect variances not available. Returned R2 does not account for random effects.\n"
     ]
    },
    {
     "name": "stderr",
     "output_type": "stream",
     "text": [
      "R[write to console]: boundary (singular) fit: see help('isSingular')\n",
      "\n",
      "R[write to console]: boundary (singular) fit: see help('isSingular')\n",
      "\n"
     ]
    },
    {
     "name": "stdout",
     "output_type": "stream",
     "text": [
      "Random effect variances not available. Returned R2 does not account for random effects.\n"
     ]
    },
    {
     "name": "stderr",
     "output_type": "stream",
     "text": [
      "R[write to console]: boundary (singular) fit: see help('isSingular')\n",
      "\n",
      "R[write to console]: boundary (singular) fit: see help('isSingular')\n",
      "\n"
     ]
    },
    {
     "name": "stdout",
     "output_type": "stream",
     "text": [
      "Random effect variances not available. Returned R2 does not account for random effects.\n"
     ]
    },
    {
     "name": "stderr",
     "output_type": "stream",
     "text": [
      "Evaluating models: 100%|████████████████████████████████████████| 4/4 [00:11<00:00,  2.82s/it]\n"
     ]
    }
   ],
   "source": [
    "# but probably it generated that warning because your random effects are very small.\n",
    "# It is likely that one of your variables is not being evaluated as contributing to the\n",
    "# variance. Most likely, the \"culprit\" is the random variable (subj in your case). If you look\n",
    "# at the output of your model (just print ce_model and hit enter, or summary(ce_model)), there\n",
    "# should be a variable that has zero or very nearly zero variance and standard deviation.\n",
    "# In lmer, a singular fit could be caused by collinearity in fixed effects, as in any other linear model.\n",
    "# That would need you to revise your model by removing terms. But in lmer, that (or a \"boundary (singular)\n",
    "# fit\" warning) can also be also triggered in quite simple models when a random effect variance \n",
    "# is estimated very near zero and (very loosely) the data is not sufficiently informative to drag the\n",
    "# estimate away from the zero starting value.\n",
    "# The formal answer is broadly similar either way; drop terms that estimate as zero.\n",
    "evaluation_results = models_features.compute_models_indexes(df, model_formulas)"
   ]
  },
  {
   "cell_type": "code",
   "execution_count": 22,
   "id": "4a24ca42-a884-411e-8fd9-c2d00cb2ff6d",
   "metadata": {
    "scrolled": true
   },
   "outputs": [
    {
     "name": "stdout",
     "output_type": "stream",
     "text": [
      "Best Non-Mixed Model: {'formula': 'age ~ survived', 'aic': 11640.117184131024, 'bic': 11649.701872985966, 'r_squared': 0.009479065631399664, 'adj_r_squared': 0.00836486885483212}\n",
      "Best Mixed Model: {'formula': 'age ~ survived + (0 + survived | sex)', 'aic': 11636.138616468017, 'bic': 11664.892683032842, 'conditional_r_squared': 0.009468515841869921}\n"
     ]
    }
   ],
   "source": [
    "# Perform weighted evaluation\n",
    "best_models = models_comparison.weighted_evaluation(evaluation_results['non_mixed'], evaluation_results['mixed'])"
   ]
  },
  {
   "cell_type": "code",
   "execution_count": 23,
   "id": "ee3b43ab-f012-4c6b-8e99-9cd4d9ef4e43",
   "metadata": {},
   "outputs": [
    {
     "name": "stderr",
     "output_type": "stream",
     "text": [
      "R[write to console]: In addition: \n",
      "R[write to console]: There were 50 or more warnings (use warnings() to see the first 50)\n",
      "R[write to console]: \n",
      "\n"
     ]
    },
    {
     "name": "stdout",
     "output_type": "stream",
     "text": [
      "\n"
     ]
    }
   ],
   "source": [
    "# Print R warnings\n",
    "r_warnings.print_r_warnings()"
   ]
  },
  {
   "cell_type": "code",
   "execution_count": 24,
   "id": "8311a35a-593f-41ea-9113-fabf8da2fa55",
   "metadata": {},
   "outputs": [
    {
     "name": "stderr",
     "output_type": "stream",
     "text": [
      "R[write to console]: boundary (singular) fit: see help('isSingular')\n",
      "\n"
     ]
    },
    {
     "data": {
      "text/html": [
       "\n",
       "        <iframe\n",
       "            width=\"800\"\n",
       "            height=\"600\"\n",
       "            src=\"./rplot.pdf\"\n",
       "            frameborder=\"0\"\n",
       "            allowfullscreen\n",
       "            \n",
       "        ></iframe>\n",
       "        "
      ],
      "text/plain": [
       "<IPython.lib.display.IFrame at 0x7f3ca9d71780>"
      ]
     },
     "metadata": {},
     "output_type": "display_data"
    }
   ],
   "source": [
    "# '%matplotlib inline' causes the plots to appear right below the cell.\n",
    "# '%matplotlib notebook' magic command does not only plots the graph below the cell; it \n",
    "# also plots the graph in an interactive window.\n",
    "%matplotlib inline\n",
    "%matplotlib ipympl\n",
    "\n",
    "# Plotting the two best models\n",
    "r_graphics.plot_best_models_diagnostics(best_models, df_r)"
   ]
  },
  {
   "cell_type": "code",
   "execution_count": 25,
   "id": "b8b793fd-8803-470e-8de4-694ac00f0b1e",
   "metadata": {},
   "outputs": [
    {
     "name": "stdout",
     "output_type": "stream",
     "text": [
      "Warning messages:\n",
      "1: In (function (package, help, pos = 2, lib.loc = NULL,  ... :\n",
      "  library ‘/usr/lib/R/site-library’ contains no packages\n",
      "2: In (function (package, help, pos = 2, lib.loc = NULL,  ... :\n",
      "  library ‘/usr/lib/R/site-library’ contains no packages\n",
      "3: In (function (package, help, pos = 2, lib.loc = NULL,  ... :\n",
      "  library ‘/usr/lib/R/site-library’ contains no packages\n",
      "4: In (function (package, help, pos = 2, lib.loc = NULL,  ... :\n",
      "  library ‘/usr/lib/R/site-library’ contains no packages\n",
      "5: In (function (package, help, pos = 2, lib.loc = NULL,  ... :\n",
      "  library ‘/usr/lib/R/site-library’ contains no packages\n",
      "6: In (function (package, help, pos = 2, lib.loc = NULL,  ... :\n",
      "  library ‘/usr/lib/R/site-library’ contains no packages\n",
      "7: Can't compute random effect variances. Some variance components equal\n",
      "  zero. Your model may suffer from singularity (see `?lme4::isSingular`\n",
      "  and `?performance::check_singularity`).\n",
      "  Solution: Respecify random structure! You may also decrease the\n",
      "  `tolerance` level to enforce the calculation of random effect variances.\n",
      "8: Random slopes not present as fixed effects. This artificially inflates\n",
      "  the conditional random effect variances.\n",
      "  Solution: Respecify fixed structure!\n",
      "9: Model failed to converge with 1 negative eigenvalue: -9.8e-04\n",
      "10: Can't compute random effect variances. Some variance components equal\n",
      "  zero. Your model may suffer from singularity (see `?lme4::isSingular`\n",
      "  and `?performance::check_singularity`).\n",
      "  Solution: Respecify random structure! You may also decrease the\n",
      "  `tolerance` level to enforce the calculation of random effect variances.\n",
      "11: Random slopes not present as fixed effects. This artificially inflates\n",
      "  the conditional random effect variances.\n",
      "  Solution: Respecify fixed structure!\n",
      "12: In checkConv(attr(opt, \"derivs\"), opt$par, ctrl = control$checkConv,  ... :\n",
      "  unable to evaluate scaled gradient\n",
      "13: In checkConv(attr(opt, \"derivs\"), opt$par, ctrl = control$checkConv,  ... :\n",
      "  Model failed to converge: degenerate  Hessian with 1 negative eigenvalues\n",
      "14: Model failed to converge with 2 negative eigenvalues: -1.9e-08 -3.1e-02\n",
      "15: In checkConv(attr(opt, \"derivs\"), opt$par, ctrl = control$checkConv,  ... :\n",
      "  unable to evaluate scaled gradient\n",
      "16: In checkConv(attr(opt, \"derivs\"), opt$par, ctrl = control$checkConv,  ... :\n",
      "   Hessian is numerically singular: parameters are not uniquely determined\n",
      "17: In as_lmerModLT(model, devfun) :\n",
      "  Model may not have converged with 1 eigenvalue close to zero: 2.3e-09\n",
      "18: In checkConv(attr(opt, \"derivs\"), opt$par, ctrl = control$checkConv,  ... :\n",
      "  unable to evaluate scaled gradient\n",
      "19: In checkConv(attr(opt, \"derivs\"), opt$par, ctrl = control$checkConv,  ... :\n",
      "  Model failed to converge: degenerate  Hessian with 1 negative eigenvalues\n",
      "20: Model failed to converge with 1 negative eigenvalue: -4.6e-08\n",
      "21: Model failed to converge with 1 negative eigenvalue: -1.1e-05\n",
      "22: Can't compute random effect variances. Some variance components equal\n",
      "  zero. Your model may suffer from singularity (see `?lme4::isSingular`\n",
      "  and `?performance::check_singularity`).\n",
      "  Solution: Respecify random structure! You may also decrease the\n",
      "  `tolerance` level to enforce the calculation of random effect variances.\n",
      "23: In checkConv(attr(opt, \"derivs\"), opt$par, ctrl = control$checkConv,  ... :\n",
      "  unable to evaluate scaled gradient\n",
      "24: In checkConv(attr(opt, \"derivs\"), opt$par, ctrl = control$checkConv,  ... :\n",
      "   Hessian is numerically singular: parameters are not uniquely determined\n",
      "25: In as_lmerModLT(model, devfun) :\n",
      "  Model may not have converged with 1 eigenvalue close to zero: -4.4e-18\n",
      "26: Can't compute random effect variances. Some variance components equal\n",
      "  zero. Your model may suffer from singularity (see `?lme4::isSingular`\n",
      "  and `?performance::check_singularity`).\n",
      "  Solution: Respecify random structure! You may also decrease the\n",
      "  `tolerance` level to enforce the calculation of random effect variances.\n",
      "27: Can't compute random effect variances. Some variance components equal\n",
      "  zero. Your model may suffer from singularity (see `?lme4::isSingular`\n",
      "  and `?performance::check_singularity`).\n",
      "  Solution: Respecify random structure! You may also decrease the\n",
      "  `tolerance` level to enforce the calculation of random effect variances.\n",
      "28: Random slopes not present as fixed effects. This artificially inflates\n",
      "  the conditional random effect variances.\n",
      "  Solution: Respecify fixed structure!\n",
      "29: Random slopes not present as fixed effects. This artificially inflates\n",
      "  the conditional random effect variances.\n",
      "  Solution: Respecify fixed structure!\n",
      "30: Can't compute random effect variances. Some variance components equal\n",
      "  zero. Your model may suffer from singularity (see `?lme4::isSingular`\n",
      "  and `?performance::check_singularity`).\n",
      "  Solution: Respecify random structure! You may also decrease the\n",
      "  `tolerance` level to enforce the calculation of random effect variances.\n",
      "31: Model failed to converge with 1 negative eigenvalue: -5.9e+01\n",
      "32: Can't compute random effect variances. Some variance components equal\n",
      "  zero. Your model may suffer from singularity (see `?lme4::isSingular`\n",
      "  and `?performance::check_singularity`).\n",
      "  Solution: Respecify random structure! You may also decrease the\n",
      "  `tolerance` level to enforce the calculation of random effect variances.\n",
      "33: Can't compute random effect variances. Some variance components equal\n",
      "  zero. Your model may suffer from singularity (see `?lme4::isSingular`\n",
      "  and `?performance::check_singularity`).\n",
      "  Solution: Respecify random structure! You may also decrease the\n",
      "  `tolerance` level to enforce the calculation of random effect variances.\n",
      "34: Random slopes not present as fixed effects. This artificially inflates\n",
      "  the conditional random effect variances.\n",
      "  Solution: Respecify fixed structure!\n",
      "35: Can't compute random effect variances. Some variance components equal\n",
      "  zero. Your model may suffer from singularity (see `?lme4::isSingular`\n",
      "  and `?performance::check_singularity`).\n",
      "  Solution: Respecify random structure! You may also decrease the\n",
      "  `tolerance` level to enforce the calculation of random effect variances.\n",
      "36: In checkConv(attr(opt, \"derivs\"), opt$par, ctrl = control$checkConv,  ... :\n",
      "  unable to evaluate scaled gradient\n",
      "37: In checkConv(attr(opt, \"derivs\"), opt$par, ctrl = control$checkConv,  ... :\n",
      "  Model failed to converge: degenerate  Hessian with 1 negative eigenvalues\n",
      "38: Model failed to converge with 1 negative eigenvalue: -6.2e-07\n",
      "39: Can't compute random effect variances. Some variance components equal\n",
      "  zero. Your model may suffer from singularity (see `?lme4::isSingular`\n",
      "  and `?performance::check_singularity`).\n",
      "  Solution: Respecify random structure! You may also decrease the\n",
      "  `tolerance` level to enforce the calculation of random effect variances.\n",
      "40: Random slopes not present as fixed effects. This artificially inflates\n",
      "  the conditional random effect variances.\n",
      "  Solution: Respecify fixed structure!\n",
      "41: Can't compute random effect variances. Some variance components equal\n",
      "  zero. Your model may suffer from singularity (see `?lme4::isSingular`\n",
      "  and `?performance::check_singularity`).\n",
      "  Solution: Respecify random structure! You may also decrease the\n",
      "  `tolerance` level to enforce the calculation of random effect variances.\n",
      "42: In checkConv(attr(opt, \"derivs\"), opt$par, ctrl = control$checkConv,  ... :\n",
      "  unable to evaluate scaled gradient\n",
      "43: In checkConv(attr(opt, \"derivs\"), opt$par, ctrl = control$checkConv,  ... :\n",
      "   Hessian is numerically singular: parameters are not uniquely determined\n",
      "44: In as_lmerModLT(model, devfun) :\n",
      "  Model may not have converged with 1 eigenvalue close to zero: 2.3e-09\n",
      "45: Model failed to converge with 1 negative eigenvalue: -2.3e+02\n",
      "46: Can't compute random effect variances. Some variance components equal\n",
      "  zero. Your model may suffer from singularity (see `?lme4::isSingular`\n",
      "  and `?performance::check_singularity`).\n",
      "  Solution: Respecify random structure! You may also decrease the\n",
      "  `tolerance` level to enforce the calculation of random effect variances.\n",
      "47: Random slopes not present as fixed effects. This artificially inflates\n",
      "  the conditional random effect variances.\n",
      "  Solution: Respecify fixed structure!\n",
      "48: Model failed to converge with 3 negative eigenvalues: -1.0e-08 -1.5e-07 -6.0e-03\n",
      "49: Can't compute random effect variances. Some variance components equal\n",
      "  zero. Your model may suffer from singularity (see `?lme4::isSingular`\n",
      "  and `?performance::check_singularity`).\n",
      "  Solution: Respecify random structure! You may also decrease the\n",
      "  `tolerance` level to enforce the calculation of random effect variances.\n",
      "50: Model failed to converge with 1 negative eigenvalue: -5.0e-08\n",
      "\n"
     ]
    }
   ],
   "source": [
    "# Print R warnings\n",
    "r_warnings.print_r_warnings()"
   ]
  }
 ],
 "metadata": {
  "kernelspec": {
   "display_name": "data analisys venv",
   "language": "python",
   "name": ".venv"
  },
  "language_info": {
   "codemirror_mode": {
    "name": "ipython",
    "version": 3
   },
   "file_extension": ".py",
   "mimetype": "text/x-python",
   "name": "python",
   "nbconvert_exporter": "python",
   "pygments_lexer": "ipython3",
   "version": "3.10.12"
  }
 },
 "nbformat": 4,
 "nbformat_minor": 5
}
